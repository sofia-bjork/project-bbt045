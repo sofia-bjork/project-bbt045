{
 "cells": [
  {
   "cell_type": "code",
   "execution_count": 1,
   "id": "4aa8b623-c15f-45b9-887e-fe47754297ee",
   "metadata": {},
   "outputs": [
    {
     "ename": "SyntaxError",
     "evalue": "invalid syntax (3986247637.py, line 4)",
     "output_type": "error",
     "traceback": [
      "\u001b[0;36m  Cell \u001b[0;32mIn[1], line 4\u001b[0;36m\u001b[0m\n\u001b[0;31m    chmod -R 777 group_Bjork\u001b[0m\n\u001b[0m             ^\u001b[0m\n\u001b[0;31mSyntaxError\u001b[0m\u001b[0;31m:\u001b[0m invalid syntax\n"
     ]
    }
   ],
   "source": [
    "#Copy this code and run it in the terminal everytime you create a new directory or file\n",
    "#Gives permission for everyone to work with the files created\n",
    "cd /cephyr/NOBACKUP/groups/bbt045_2025/groups\n",
    "chmod -R 777 group_Bjork"
   ]
  },
  {
   "cell_type": "markdown",
   "id": "2f57f04c-b424-43b8-9d07-cde8c3118bcf",
   "metadata": {},
   "source": [
    "# Building the STAR index"
   ]
  },
  {
   "cell_type": "code",
   "execution_count": 2,
   "id": "ca0cf6ff-15aa-40ee-9858-82ee7dcadea3",
   "metadata": {},
   "outputs": [
    {
     "name": "stderr",
     "output_type": "stream",
     "text": [
      "/usr/share/lmod/lmod/init/bash: /usr/share/lmod/lmod/libexec/addto: /usr/bin/lua: bad interpreter: No such file or directory\n"
     ]
    }
   ],
   "source": [
    "%%bash\n",
    "\n",
    "cd /cephyr/NOBACKUP/groups/bbt045_2025/groups/group_Bjork/data\n",
    "mkdir -p STAR_index\n"
   ]
  },
  {
   "cell_type": "code",
   "execution_count": 3,
   "id": "daffadd9-4a1b-46a4-9ab4-479bb0686d93",
   "metadata": {
    "scrolled": true
   },
   "outputs": [
    {
     "name": "stderr",
     "output_type": "stream",
     "text": [
      "/usr/share/lmod/lmod/init/bash: /usr/share/lmod/lmod/libexec/addto: /usr/bin/lua: bad interpreter: No such file or directory\n",
      "/usr/share/lmod/lmod/init/bash: /usr/share/lmod/lmod/libexec/addto: /usr/bin/lua: bad interpreter: No such file or directory\n"
     ]
    },
    {
     "name": "stdout",
     "output_type": "stream",
     "text": [
      "\t/opt/conda/bin/STAR-avx2 --runThreadN 8 --runMode genomeGenerate --genomeDir /cephyr/NOBACKUP/groups/bbt045_2025/groups/group_Bjork/data/STAR_index --genomeFastaFiles /cephyr/NOBACKUP/groups/bbt045_2025/groups/group_Bjork/human_genome/Homo_sapiens.GRCh38.dna_sm.primary_assembly.fa --sjdbGTFfile /cephyr/NOBACKUP/groups/bbt045_2025/groups/group_Bjork/human_genome/Homo_sapiens.GRCh38.113.gtf --sjdbOverhang 99 --outFileNamePrefix /cephyr/NOBACKUP/groups/bbt045_2025/groups/group_Bjork/data/STAR_index/\n",
      "\tSTAR version: 2.7.11b   compiled: 2025-01-09T12:32:06+0000 :/opt/conda/conda-bld/star_1736425784849/work/source\n",
      "Feb 24 12:38:23 ..... started STAR run\n",
      "Feb 24 12:38:23 ... starting to generate Genome files\n",
      "Feb 24 12:40:08 ..... processing annotations GTF\n"
     ]
    },
    {
     "name": "stderr",
     "output_type": "stream",
     "text": [
      "/opt/conda/bin/STAR: line 8: 1396757 Killed                  \"${cmd}\" \"$@\"\n"
     ]
    },
    {
     "ename": "CalledProcessError",
     "evalue": "Command 'b'cd /cephyr/NOBACKUP/groups/bbt045_2025/groups/group_Bjork\\n\\nSTAR --runThreadN 8 \\\\\\n     --runMode genomeGenerate \\\\\\n     --genomeDir /cephyr/NOBACKUP/groups/bbt045_2025/groups/group_Bjork/data/STAR_index \\\\\\n     --genomeFastaFiles /cephyr/NOBACKUP/groups/bbt045_2025/groups/group_Bjork/human_genome/Homo_sapiens.GRCh38.dna_sm.primary_assembly.fa \\\\\\n     --sjdbGTFfile /cephyr/NOBACKUP/groups/bbt045_2025/groups/group_Bjork/human_genome/Homo_sapiens.GRCh38.113.gtf \\\\\\n     --sjdbOverhang 99 \\\\\\n     --outFileNamePrefix /cephyr/NOBACKUP/groups/bbt045_2025/groups/group_Bjork/data/STAR_index/\\n'' returned non-zero exit status 137.",
     "output_type": "error",
     "traceback": [
      "\u001b[0;31m---------------------------------------------------------------------------\u001b[0m",
      "\u001b[0;31mCalledProcessError\u001b[0m                        Traceback (most recent call last)",
      "Cell \u001b[0;32mIn[3], line 1\u001b[0m\n\u001b[0;32m----> 1\u001b[0m \u001b[43mget_ipython\u001b[49m\u001b[43m(\u001b[49m\u001b[43m)\u001b[49m\u001b[38;5;241;43m.\u001b[39;49m\u001b[43mrun_cell_magic\u001b[49m\u001b[43m(\u001b[49m\u001b[38;5;124;43m'\u001b[39;49m\u001b[38;5;124;43mbash\u001b[39;49m\u001b[38;5;124;43m'\u001b[39;49m\u001b[43m,\u001b[49m\u001b[43m \u001b[49m\u001b[38;5;124;43m'\u001b[39;49m\u001b[38;5;124;43m'\u001b[39;49m\u001b[43m,\u001b[49m\u001b[43m \u001b[49m\u001b[38;5;124;43m'\u001b[39;49m\u001b[38;5;124;43mcd /cephyr/NOBACKUP/groups/bbt045_2025/groups/group_Bjork\u001b[39;49m\u001b[38;5;130;43;01m\\n\u001b[39;49;00m\u001b[38;5;130;43;01m\\n\u001b[39;49;00m\u001b[38;5;124;43mSTAR --runThreadN 8 \u001b[39;49m\u001b[38;5;130;43;01m\\\\\u001b[39;49;00m\u001b[38;5;130;43;01m\\n\u001b[39;49;00m\u001b[38;5;124;43m     --runMode genomeGenerate \u001b[39;49m\u001b[38;5;130;43;01m\\\\\u001b[39;49;00m\u001b[38;5;130;43;01m\\n\u001b[39;49;00m\u001b[38;5;124;43m     --genomeDir /cephyr/NOBACKUP/groups/bbt045_2025/groups/group_Bjork/data/STAR_index \u001b[39;49m\u001b[38;5;130;43;01m\\\\\u001b[39;49;00m\u001b[38;5;130;43;01m\\n\u001b[39;49;00m\u001b[38;5;124;43m     --genomeFastaFiles /cephyr/NOBACKUP/groups/bbt045_2025/groups/group_Bjork/human_genome/Homo_sapiens.GRCh38.dna_sm.primary_assembly.fa \u001b[39;49m\u001b[38;5;130;43;01m\\\\\u001b[39;49;00m\u001b[38;5;130;43;01m\\n\u001b[39;49;00m\u001b[38;5;124;43m     --sjdbGTFfile /cephyr/NOBACKUP/groups/bbt045_2025/groups/group_Bjork/human_genome/Homo_sapiens.GRCh38.113.gtf \u001b[39;49m\u001b[38;5;130;43;01m\\\\\u001b[39;49;00m\u001b[38;5;130;43;01m\\n\u001b[39;49;00m\u001b[38;5;124;43m     --sjdbOverhang 99 \u001b[39;49m\u001b[38;5;130;43;01m\\\\\u001b[39;49;00m\u001b[38;5;130;43;01m\\n\u001b[39;49;00m\u001b[38;5;124;43m     --outFileNamePrefix /cephyr/NOBACKUP/groups/bbt045_2025/groups/group_Bjork/data/STAR_index/\u001b[39;49m\u001b[38;5;130;43;01m\\n\u001b[39;49;00m\u001b[38;5;124;43m'\u001b[39;49m\u001b[43m)\u001b[49m\n",
      "File \u001b[0;32m/opt/conda/lib/python3.11/site-packages/IPython/core/interactiveshell.py:2543\u001b[0m, in \u001b[0;36mInteractiveShell.run_cell_magic\u001b[0;34m(self, magic_name, line, cell)\u001b[0m\n\u001b[1;32m   2541\u001b[0m \u001b[38;5;28;01mwith\u001b[39;00m \u001b[38;5;28mself\u001b[39m\u001b[38;5;241m.\u001b[39mbuiltin_trap:\n\u001b[1;32m   2542\u001b[0m     args \u001b[38;5;241m=\u001b[39m (magic_arg_s, cell)\n\u001b[0;32m-> 2543\u001b[0m     result \u001b[38;5;241m=\u001b[39m \u001b[43mfn\u001b[49m\u001b[43m(\u001b[49m\u001b[38;5;241;43m*\u001b[39;49m\u001b[43margs\u001b[49m\u001b[43m,\u001b[49m\u001b[43m \u001b[49m\u001b[38;5;241;43m*\u001b[39;49m\u001b[38;5;241;43m*\u001b[39;49m\u001b[43mkwargs\u001b[49m\u001b[43m)\u001b[49m\n\u001b[1;32m   2545\u001b[0m \u001b[38;5;66;03m# The code below prevents the output from being displayed\u001b[39;00m\n\u001b[1;32m   2546\u001b[0m \u001b[38;5;66;03m# when using magics with decorator @output_can_be_silenced\u001b[39;00m\n\u001b[1;32m   2547\u001b[0m \u001b[38;5;66;03m# when the last Python token in the expression is a ';'.\u001b[39;00m\n\u001b[1;32m   2548\u001b[0m \u001b[38;5;28;01mif\u001b[39;00m \u001b[38;5;28mgetattr\u001b[39m(fn, magic\u001b[38;5;241m.\u001b[39mMAGIC_OUTPUT_CAN_BE_SILENCED, \u001b[38;5;28;01mFalse\u001b[39;00m):\n",
      "File \u001b[0;32m/opt/conda/lib/python3.11/site-packages/IPython/core/magics/script.py:159\u001b[0m, in \u001b[0;36mScriptMagics._make_script_magic.<locals>.named_script_magic\u001b[0;34m(line, cell)\u001b[0m\n\u001b[1;32m    157\u001b[0m \u001b[38;5;28;01melse\u001b[39;00m:\n\u001b[1;32m    158\u001b[0m     line \u001b[38;5;241m=\u001b[39m script\n\u001b[0;32m--> 159\u001b[0m \u001b[38;5;28;01mreturn\u001b[39;00m \u001b[38;5;28;43mself\u001b[39;49m\u001b[38;5;241;43m.\u001b[39;49m\u001b[43mshebang\u001b[49m\u001b[43m(\u001b[49m\u001b[43mline\u001b[49m\u001b[43m,\u001b[49m\u001b[43m \u001b[49m\u001b[43mcell\u001b[49m\u001b[43m)\u001b[49m\n",
      "File \u001b[0;32m/opt/conda/lib/python3.11/site-packages/IPython/core/magics/script.py:336\u001b[0m, in \u001b[0;36mScriptMagics.shebang\u001b[0;34m(self, line, cell)\u001b[0m\n\u001b[1;32m    331\u001b[0m \u001b[38;5;28;01mif\u001b[39;00m args\u001b[38;5;241m.\u001b[39mraise_error \u001b[38;5;129;01mand\u001b[39;00m p\u001b[38;5;241m.\u001b[39mreturncode \u001b[38;5;241m!=\u001b[39m \u001b[38;5;241m0\u001b[39m:\n\u001b[1;32m    332\u001b[0m     \u001b[38;5;66;03m# If we get here and p.returncode is still None, we must have\u001b[39;00m\n\u001b[1;32m    333\u001b[0m     \u001b[38;5;66;03m# killed it but not yet seen its return code. We don't wait for it,\u001b[39;00m\n\u001b[1;32m    334\u001b[0m     \u001b[38;5;66;03m# in case it's stuck in uninterruptible sleep. -9 = SIGKILL\u001b[39;00m\n\u001b[1;32m    335\u001b[0m     rc \u001b[38;5;241m=\u001b[39m p\u001b[38;5;241m.\u001b[39mreturncode \u001b[38;5;129;01mor\u001b[39;00m \u001b[38;5;241m-\u001b[39m\u001b[38;5;241m9\u001b[39m\n\u001b[0;32m--> 336\u001b[0m     \u001b[38;5;28;01mraise\u001b[39;00m CalledProcessError(rc, cell)\n",
      "\u001b[0;31mCalledProcessError\u001b[0m: Command 'b'cd /cephyr/NOBACKUP/groups/bbt045_2025/groups/group_Bjork\\n\\nSTAR --runThreadN 8 \\\\\\n     --runMode genomeGenerate \\\\\\n     --genomeDir /cephyr/NOBACKUP/groups/bbt045_2025/groups/group_Bjork/data/STAR_index \\\\\\n     --genomeFastaFiles /cephyr/NOBACKUP/groups/bbt045_2025/groups/group_Bjork/human_genome/Homo_sapiens.GRCh38.dna_sm.primary_assembly.fa \\\\\\n     --sjdbGTFfile /cephyr/NOBACKUP/groups/bbt045_2025/groups/group_Bjork/human_genome/Homo_sapiens.GRCh38.113.gtf \\\\\\n     --sjdbOverhang 99 \\\\\\n     --outFileNamePrefix /cephyr/NOBACKUP/groups/bbt045_2025/groups/group_Bjork/data/STAR_index/\\n'' returned non-zero exit status 137."
     ]
    }
   ],
   "source": [
    "%%bash \n",
    "cd /cephyr/NOBACKUP/groups/bbt045_2025/groups/group_Bjork\n",
    "\n",
    "STAR --runThreadN 8 \\\n",
    "     --runMode genomeGenerate \\\n",
    "     --genomeDir /cephyr/NOBACKUP/groups/bbt045_2025/groups/group_Bjork/data/STAR_index \\\n",
    "     --genomeFastaFiles /cephyr/NOBACKUP/groups/bbt045_2025/groups/group_Bjork/human_genome/Homo_sapiens.GRCh38.dna_sm.primary_assembly.fa \\\n",
    "     --sjdbGTFfile /cephyr/NOBACKUP/groups/bbt045_2025/groups/group_Bjork/human_genome/Homo_sapiens.GRCh38.113.gtf \\\n",
    "     --sjdbOverhang 99 \\\n",
    "     --outFileNamePrefix /cephyr/NOBACKUP/groups/bbt045_2025/groups/group_Bjork/data/STAR_index/"
   ]
  },
  {
   "cell_type": "markdown",
   "id": "130c53dd-7e4b-491f-8e80-3233da8e76ed",
   "metadata": {},
   "source": [
    "# Alignment (subset)"
   ]
  },
  {
   "cell_type": "code",
   "execution_count": 4,
   "id": "e08da278-de12-45bf-9022-01a07c4f31eb",
   "metadata": {
    "scrolled": true
   },
   "outputs": [
    {
     "name": "stderr",
     "output_type": "stream",
     "text": [
      "/usr/share/lmod/lmod/init/bash: /usr/share/lmod/lmod/libexec/addto: /usr/bin/lua: bad interpreter: No such file or directory\n",
      "/usr/share/lmod/lmod/init/bash: /usr/share/lmod/lmod/libexec/addto: /usr/bin/lua: bad interpreter: No such file or directory\n",
      "\n",
      "EXITING because of FATAL ERROR: could not create output file: /cephyr/NOBACKUP/groups/bbt045_2025/groups/group_Bjork/data/alignment_STAR_subset/ERR950158_trimmed_Log.out\n",
      "SOLUTION: check if the path /cephyr/NOBACKUP/groups/bbt045_2025/groups/group_Bjork/data/alignment_STAR_subset/ERR950158_trimmed_ exists and you have permissions to write there\n",
      "\n",
      "Feb 24 10:39:19 ...... FATAL ERROR, exiting\n",
      "/usr/share/lmod/lmod/init/bash: /usr/share/lmod/lmod/libexec/addto: /usr/bin/lua: bad interpreter: No such file or directory\n",
      "\n",
      "EXITING because of FATAL ERROR: could not create output file: /cephyr/NOBACKUP/groups/bbt045_2025/groups/group_Bjork/data/alignment_STAR_subset/ERR950159_trimmed_Log.out\n",
      "SOLUTION: check if the path /cephyr/NOBACKUP/groups/bbt045_2025/groups/group_Bjork/data/alignment_STAR_subset/ERR950159_trimmed_ exists and you have permissions to write there\n",
      "\n",
      "Feb 24 10:39:19 ...... FATAL ERROR, exiting\n",
      "/usr/share/lmod/lmod/init/bash: /usr/share/lmod/lmod/libexec/addto: /usr/bin/lua: bad interpreter: No such file or directory\n",
      "\n",
      "EXITING because of FATAL ERROR: could not create output file: /cephyr/NOBACKUP/groups/bbt045_2025/groups/group_Bjork/data/alignment_STAR_subset/ERR950160_trimmed_Log.out\n",
      "SOLUTION: check if the path /cephyr/NOBACKUP/groups/bbt045_2025/groups/group_Bjork/data/alignment_STAR_subset/ERR950160_trimmed_ exists and you have permissions to write there\n",
      "\n",
      "Feb 24 10:39:19 ...... FATAL ERROR, exiting\n",
      "/usr/share/lmod/lmod/init/bash: /usr/share/lmod/lmod/libexec/addto: /usr/bin/lua: bad interpreter: No such file or directory\n",
      "\n",
      "EXITING because of FATAL ERROR: could not create output file: /cephyr/NOBACKUP/groups/bbt045_2025/groups/group_Bjork/data/alignment_STAR_subset/ERR950161_trimmed_Log.out\n",
      "SOLUTION: check if the path /cephyr/NOBACKUP/groups/bbt045_2025/groups/group_Bjork/data/alignment_STAR_subset/ERR950161_trimmed_ exists and you have permissions to write there\n",
      "\n",
      "Feb 24 10:39:19 ...... FATAL ERROR, exiting\n",
      "/usr/share/lmod/lmod/init/bash: /usr/share/lmod/lmod/libexec/addto: /usr/bin/lua: bad interpreter: No such file or directory\n",
      "\n",
      "EXITING because of FATAL ERROR: could not create output file: /cephyr/NOBACKUP/groups/bbt045_2025/groups/group_Bjork/data/alignment_STAR_subset/ERR950162_trimmed_Log.out\n",
      "SOLUTION: check if the path /cephyr/NOBACKUP/groups/bbt045_2025/groups/group_Bjork/data/alignment_STAR_subset/ERR950162_trimmed_ exists and you have permissions to write there\n",
      "\n",
      "Feb 24 10:39:19 ...... FATAL ERROR, exiting\n",
      "/usr/share/lmod/lmod/init/bash: /usr/share/lmod/lmod/libexec/addto: /usr/bin/lua: bad interpreter: No such file or directory\n",
      "\n",
      "EXITING because of FATAL ERROR: could not create output file: /cephyr/NOBACKUP/groups/bbt045_2025/groups/group_Bjork/data/alignment_STAR_subset/ERR950163_trimmed_Log.out\n",
      "SOLUTION: check if the path /cephyr/NOBACKUP/groups/bbt045_2025/groups/group_Bjork/data/alignment_STAR_subset/ERR950163_trimmed_ exists and you have permissions to write there\n",
      "\n",
      "Feb 24 10:39:19 ...... FATAL ERROR, exiting\n",
      "/usr/share/lmod/lmod/init/bash: /usr/share/lmod/lmod/libexec/addto: /usr/bin/lua: bad interpreter: No such file or directory\n",
      "\n",
      "EXITING because of FATAL ERROR: could not create output file: /cephyr/NOBACKUP/groups/bbt045_2025/groups/group_Bjork/data/alignment_STAR_subset/ERR950177_trimmed_Log.out\n",
      "SOLUTION: check if the path /cephyr/NOBACKUP/groups/bbt045_2025/groups/group_Bjork/data/alignment_STAR_subset/ERR950177_trimmed_ exists and you have permissions to write there\n",
      "\n",
      "Feb 24 10:39:19 ...... FATAL ERROR, exiting\n",
      "/usr/share/lmod/lmod/init/bash: /usr/share/lmod/lmod/libexec/addto: /usr/bin/lua: bad interpreter: No such file or directory\n",
      "\n",
      "EXITING because of FATAL ERROR: could not create output file: /cephyr/NOBACKUP/groups/bbt045_2025/groups/group_Bjork/data/alignment_STAR_subset/ERR950178_trimmed_Log.out\n",
      "SOLUTION: check if the path /cephyr/NOBACKUP/groups/bbt045_2025/groups/group_Bjork/data/alignment_STAR_subset/ERR950178_trimmed_ exists and you have permissions to write there\n",
      "\n",
      "Feb 24 10:39:19 ...... FATAL ERROR, exiting\n",
      "/usr/share/lmod/lmod/init/bash: /usr/share/lmod/lmod/libexec/addto: /usr/bin/lua: bad interpreter: No such file or directory\n",
      "\n",
      "EXITING because of FATAL ERROR: could not create output file: /cephyr/NOBACKUP/groups/bbt045_2025/groups/group_Bjork/data/alignment_STAR_subset/ERR950179_trimmed_Log.out\n",
      "SOLUTION: check if the path /cephyr/NOBACKUP/groups/bbt045_2025/groups/group_Bjork/data/alignment_STAR_subset/ERR950179_trimmed_ exists and you have permissions to write there\n",
      "\n",
      "Feb 24 10:39:19 ...... FATAL ERROR, exiting\n",
      "/usr/share/lmod/lmod/init/bash: /usr/share/lmod/lmod/libexec/addto: /usr/bin/lua: bad interpreter: No such file or directory\n",
      "\n",
      "EXITING because of FATAL ERROR: could not create output file: /cephyr/NOBACKUP/groups/bbt045_2025/groups/group_Bjork/data/alignment_STAR_subset/ERR950180_trimmed_Log.out\n",
      "SOLUTION: check if the path /cephyr/NOBACKUP/groups/bbt045_2025/groups/group_Bjork/data/alignment_STAR_subset/ERR950180_trimmed_ exists and you have permissions to write there\n",
      "\n",
      "Feb 24 10:39:19 ...... FATAL ERROR, exiting\n",
      "/usr/share/lmod/lmod/init/bash: /usr/share/lmod/lmod/libexec/addto: /usr/bin/lua: bad interpreter: No such file or directory\n",
      "\n",
      "EXITING because of FATAL ERROR: could not create output file: /cephyr/NOBACKUP/groups/bbt045_2025/groups/group_Bjork/data/alignment_STAR_subset/ERR950181_trimmed_Log.out\n",
      "SOLUTION: check if the path /cephyr/NOBACKUP/groups/bbt045_2025/groups/group_Bjork/data/alignment_STAR_subset/ERR950181_trimmed_ exists and you have permissions to write there\n",
      "\n",
      "Feb 24 10:39:19 ...... FATAL ERROR, exiting\n",
      "/usr/share/lmod/lmod/init/bash: /usr/share/lmod/lmod/libexec/addto: /usr/bin/lua: bad interpreter: No such file or directory\n",
      "\n",
      "EXITING because of FATAL ERROR: could not create output file: /cephyr/NOBACKUP/groups/bbt045_2025/groups/group_Bjork/data/alignment_STAR_subset/ERR950182_trimmed_Log.out\n",
      "SOLUTION: check if the path /cephyr/NOBACKUP/groups/bbt045_2025/groups/group_Bjork/data/alignment_STAR_subset/ERR950182_trimmed_ exists and you have permissions to write there\n",
      "\n",
      "Feb 24 10:39:19 ...... FATAL ERROR, exiting\n",
      "/usr/share/lmod/lmod/init/bash: /usr/share/lmod/lmod/libexec/addto: /usr/bin/lua: bad interpreter: No such file or directory\n",
      "\n",
      "EXITING because of FATAL ERROR: could not create output file: /cephyr/NOBACKUP/groups/bbt045_2025/groups/group_Bjork/data/alignment_STAR_subset/ERR950186_trimmed_Log.out\n",
      "SOLUTION: check if the path /cephyr/NOBACKUP/groups/bbt045_2025/groups/group_Bjork/data/alignment_STAR_subset/ERR950186_trimmed_ exists and you have permissions to write there\n",
      "\n",
      "Feb 24 10:39:19 ...... FATAL ERROR, exiting\n",
      "/usr/share/lmod/lmod/init/bash: /usr/share/lmod/lmod/libexec/addto: /usr/bin/lua: bad interpreter: No such file or directory\n",
      "\n",
      "EXITING because of FATAL ERROR: could not create output file: /cephyr/NOBACKUP/groups/bbt045_2025/groups/group_Bjork/data/alignment_STAR_subset/ERR950187_trimmed_Log.out\n",
      "SOLUTION: check if the path /cephyr/NOBACKUP/groups/bbt045_2025/groups/group_Bjork/data/alignment_STAR_subset/ERR950187_trimmed_ exists and you have permissions to write there\n",
      "\n",
      "Feb 24 10:39:19 ...... FATAL ERROR, exiting\n"
     ]
    },
    {
     "ename": "CalledProcessError",
     "evalue": "Command 'b'\\n# Define paths\\nGENOME_DIR=\"/cephyr/NOBACKUP/groups/bbt045_2025/groups/group_Bjork/data/STAR_index\"\\nFASTQ_DIR=\"/cephyr/NOBACKUP/groups/bbt045_2025/groups/group_Bjork/data/subset_trimmed_RNA-seq/\"\\nOUTPUT_DIR=\"/cephyr/NOBACKUP/groups/bbt045_2025/groups/group_Bjork/data/alignment_STAR_subset\"\\n\\n# Create output directory if it doesn\\'t exist\\nmkdir -p \"$OUTPUT_DIR\"\\n\\n# Loop through FASTQ files\\nfor file1 in ${FASTQ_DIR}/*_1.fastq.gz; do\\n    # Extract sample name\\n    SAMPLE=$(basename \"$file1\" _1.fastq.gz)\\n    file2=\"${FASTQ_DIR}/${SAMPLE}_2.fastq.gz\"\\n\\n    # Run STAR alignment\\n    STAR --runThreadN 8 \\\\\\n         --genomeDir \"$GENOME_DIR\" \\\\\\n         --readFilesIn \"$file1\" \"$file2\" \\\\\\n         --readFilesCommand zcat \\\\\\n         --outFileNamePrefix \"${OUTPUT_DIR}/${SAMPLE}_\" \\\\\\n         --sjdbGTFfile /cephyr/NOBACKUP/groups/bbt045_2025/groups/group_Bjork/human_genome/Homo_sapiens.GRCh38.113.gtf \\\\\\n         --outSAMtype BAM SortedByCoordinate \\\\\\n         --quantMode TranscriptomeSAM GeneCounts\\ndone\\n'' returned non-zero exit status 102.",
     "output_type": "error",
     "traceback": [
      "\u001b[0;31m---------------------------------------------------------------------------\u001b[0m",
      "\u001b[0;31mCalledProcessError\u001b[0m                        Traceback (most recent call last)",
      "Cell \u001b[0;32mIn[4], line 1\u001b[0m\n\u001b[0;32m----> 1\u001b[0m \u001b[43mget_ipython\u001b[49m\u001b[43m(\u001b[49m\u001b[43m)\u001b[49m\u001b[38;5;241;43m.\u001b[39;49m\u001b[43mrun_cell_magic\u001b[49m\u001b[43m(\u001b[49m\u001b[38;5;124;43m'\u001b[39;49m\u001b[38;5;124;43mbash\u001b[39;49m\u001b[38;5;124;43m'\u001b[39;49m\u001b[43m,\u001b[49m\u001b[43m \u001b[49m\u001b[38;5;124;43m'\u001b[39;49m\u001b[38;5;124;43m'\u001b[39;49m\u001b[43m,\u001b[49m\u001b[43m \u001b[49m\u001b[38;5;124;43m'\u001b[39;49m\u001b[38;5;130;43;01m\\n\u001b[39;49;00m\u001b[38;5;124;43m# Define paths\u001b[39;49m\u001b[38;5;130;43;01m\\n\u001b[39;49;00m\u001b[38;5;124;43mGENOME_DIR=\u001b[39;49m\u001b[38;5;124;43m\"\u001b[39;49m\u001b[38;5;124;43m/cephyr/NOBACKUP/groups/bbt045_2025/groups/group_Bjork/data/STAR_index\u001b[39;49m\u001b[38;5;124;43m\"\u001b[39;49m\u001b[38;5;130;43;01m\\n\u001b[39;49;00m\u001b[38;5;124;43mFASTQ_DIR=\u001b[39;49m\u001b[38;5;124;43m\"\u001b[39;49m\u001b[38;5;124;43m/cephyr/NOBACKUP/groups/bbt045_2025/groups/group_Bjork/data/subset_trimmed_RNA-seq/\u001b[39;49m\u001b[38;5;124;43m\"\u001b[39;49m\u001b[38;5;130;43;01m\\n\u001b[39;49;00m\u001b[38;5;124;43mOUTPUT_DIR=\u001b[39;49m\u001b[38;5;124;43m\"\u001b[39;49m\u001b[38;5;124;43m/cephyr/NOBACKUP/groups/bbt045_2025/groups/group_Bjork/data/alignment_STAR_subset\u001b[39;49m\u001b[38;5;124;43m\"\u001b[39;49m\u001b[38;5;130;43;01m\\n\u001b[39;49;00m\u001b[38;5;130;43;01m\\n\u001b[39;49;00m\u001b[38;5;124;43m# Create output directory if it doesn\u001b[39;49m\u001b[38;5;130;43;01m\\'\u001b[39;49;00m\u001b[38;5;124;43mt exist\u001b[39;49m\u001b[38;5;130;43;01m\\n\u001b[39;49;00m\u001b[38;5;124;43mmkdir -p \u001b[39;49m\u001b[38;5;124;43m\"\u001b[39;49m\u001b[38;5;124;43m$OUTPUT_DIR\u001b[39;49m\u001b[38;5;124;43m\"\u001b[39;49m\u001b[38;5;130;43;01m\\n\u001b[39;49;00m\u001b[38;5;130;43;01m\\n\u001b[39;49;00m\u001b[38;5;124;43m# Loop through FASTQ files\u001b[39;49m\u001b[38;5;130;43;01m\\n\u001b[39;49;00m\u001b[38;5;124;43mfor file1 in $\u001b[39;49m\u001b[38;5;132;43;01m{FASTQ_DIR}\u001b[39;49;00m\u001b[38;5;124;43m/*_1.fastq.gz; do\u001b[39;49m\u001b[38;5;130;43;01m\\n\u001b[39;49;00m\u001b[38;5;124;43m    # Extract sample name\u001b[39;49m\u001b[38;5;130;43;01m\\n\u001b[39;49;00m\u001b[38;5;124;43m    SAMPLE=$(basename \u001b[39;49m\u001b[38;5;124;43m\"\u001b[39;49m\u001b[38;5;124;43m$file1\u001b[39;49m\u001b[38;5;124;43m\"\u001b[39;49m\u001b[38;5;124;43m _1.fastq.gz)\u001b[39;49m\u001b[38;5;130;43;01m\\n\u001b[39;49;00m\u001b[38;5;124;43m    file2=\u001b[39;49m\u001b[38;5;124;43m\"\u001b[39;49m\u001b[38;5;124;43m$\u001b[39;49m\u001b[38;5;132;43;01m{FASTQ_DIR}\u001b[39;49;00m\u001b[38;5;124;43m/$\u001b[39;49m\u001b[38;5;132;43;01m{SAMPLE}\u001b[39;49;00m\u001b[38;5;124;43m_2.fastq.gz\u001b[39;49m\u001b[38;5;124;43m\"\u001b[39;49m\u001b[38;5;130;43;01m\\n\u001b[39;49;00m\u001b[38;5;130;43;01m\\n\u001b[39;49;00m\u001b[38;5;124;43m    # Run STAR alignment\u001b[39;49m\u001b[38;5;130;43;01m\\n\u001b[39;49;00m\u001b[38;5;124;43m    STAR --runThreadN 8 \u001b[39;49m\u001b[38;5;130;43;01m\\\\\u001b[39;49;00m\u001b[38;5;130;43;01m\\n\u001b[39;49;00m\u001b[38;5;124;43m         --genomeDir \u001b[39;49m\u001b[38;5;124;43m\"\u001b[39;49m\u001b[38;5;124;43m$GENOME_DIR\u001b[39;49m\u001b[38;5;124;43m\"\u001b[39;49m\u001b[38;5;124;43m \u001b[39;49m\u001b[38;5;130;43;01m\\\\\u001b[39;49;00m\u001b[38;5;130;43;01m\\n\u001b[39;49;00m\u001b[38;5;124;43m         --readFilesIn \u001b[39;49m\u001b[38;5;124;43m\"\u001b[39;49m\u001b[38;5;124;43m$file1\u001b[39;49m\u001b[38;5;124;43m\"\u001b[39;49m\u001b[38;5;124;43m \u001b[39;49m\u001b[38;5;124;43m\"\u001b[39;49m\u001b[38;5;124;43m$file2\u001b[39;49m\u001b[38;5;124;43m\"\u001b[39;49m\u001b[38;5;124;43m \u001b[39;49m\u001b[38;5;130;43;01m\\\\\u001b[39;49;00m\u001b[38;5;130;43;01m\\n\u001b[39;49;00m\u001b[38;5;124;43m         --readFilesCommand zcat \u001b[39;49m\u001b[38;5;130;43;01m\\\\\u001b[39;49;00m\u001b[38;5;130;43;01m\\n\u001b[39;49;00m\u001b[38;5;124;43m         --outFileNamePrefix \u001b[39;49m\u001b[38;5;124;43m\"\u001b[39;49m\u001b[38;5;124;43m$\u001b[39;49m\u001b[38;5;132;43;01m{OUTPUT_DIR}\u001b[39;49;00m\u001b[38;5;124;43m/$\u001b[39;49m\u001b[38;5;132;43;01m{SAMPLE}\u001b[39;49;00m\u001b[38;5;124;43m_\u001b[39;49m\u001b[38;5;124;43m\"\u001b[39;49m\u001b[38;5;124;43m \u001b[39;49m\u001b[38;5;130;43;01m\\\\\u001b[39;49;00m\u001b[38;5;130;43;01m\\n\u001b[39;49;00m\u001b[38;5;124;43m         --sjdbGTFfile /cephyr/NOBACKUP/groups/bbt045_2025/groups/group_Bjork/human_genome/Homo_sapiens.GRCh38.113.gtf \u001b[39;49m\u001b[38;5;130;43;01m\\\\\u001b[39;49;00m\u001b[38;5;130;43;01m\\n\u001b[39;49;00m\u001b[38;5;124;43m         --outSAMtype BAM SortedByCoordinate \u001b[39;49m\u001b[38;5;130;43;01m\\\\\u001b[39;49;00m\u001b[38;5;130;43;01m\\n\u001b[39;49;00m\u001b[38;5;124;43m         --quantMode TranscriptomeSAM GeneCounts\u001b[39;49m\u001b[38;5;130;43;01m\\n\u001b[39;49;00m\u001b[38;5;124;43mdone\u001b[39;49m\u001b[38;5;130;43;01m\\n\u001b[39;49;00m\u001b[38;5;124;43m'\u001b[39;49m\u001b[43m)\u001b[49m\n",
      "File \u001b[0;32m/opt/conda/lib/python3.11/site-packages/IPython/core/interactiveshell.py:2543\u001b[0m, in \u001b[0;36mInteractiveShell.run_cell_magic\u001b[0;34m(self, magic_name, line, cell)\u001b[0m\n\u001b[1;32m   2541\u001b[0m \u001b[38;5;28;01mwith\u001b[39;00m \u001b[38;5;28mself\u001b[39m\u001b[38;5;241m.\u001b[39mbuiltin_trap:\n\u001b[1;32m   2542\u001b[0m     args \u001b[38;5;241m=\u001b[39m (magic_arg_s, cell)\n\u001b[0;32m-> 2543\u001b[0m     result \u001b[38;5;241m=\u001b[39m \u001b[43mfn\u001b[49m\u001b[43m(\u001b[49m\u001b[38;5;241;43m*\u001b[39;49m\u001b[43margs\u001b[49m\u001b[43m,\u001b[49m\u001b[43m \u001b[49m\u001b[38;5;241;43m*\u001b[39;49m\u001b[38;5;241;43m*\u001b[39;49m\u001b[43mkwargs\u001b[49m\u001b[43m)\u001b[49m\n\u001b[1;32m   2545\u001b[0m \u001b[38;5;66;03m# The code below prevents the output from being displayed\u001b[39;00m\n\u001b[1;32m   2546\u001b[0m \u001b[38;5;66;03m# when using magics with decorator @output_can_be_silenced\u001b[39;00m\n\u001b[1;32m   2547\u001b[0m \u001b[38;5;66;03m# when the last Python token in the expression is a ';'.\u001b[39;00m\n\u001b[1;32m   2548\u001b[0m \u001b[38;5;28;01mif\u001b[39;00m \u001b[38;5;28mgetattr\u001b[39m(fn, magic\u001b[38;5;241m.\u001b[39mMAGIC_OUTPUT_CAN_BE_SILENCED, \u001b[38;5;28;01mFalse\u001b[39;00m):\n",
      "File \u001b[0;32m/opt/conda/lib/python3.11/site-packages/IPython/core/magics/script.py:159\u001b[0m, in \u001b[0;36mScriptMagics._make_script_magic.<locals>.named_script_magic\u001b[0;34m(line, cell)\u001b[0m\n\u001b[1;32m    157\u001b[0m \u001b[38;5;28;01melse\u001b[39;00m:\n\u001b[1;32m    158\u001b[0m     line \u001b[38;5;241m=\u001b[39m script\n\u001b[0;32m--> 159\u001b[0m \u001b[38;5;28;01mreturn\u001b[39;00m \u001b[38;5;28;43mself\u001b[39;49m\u001b[38;5;241;43m.\u001b[39;49m\u001b[43mshebang\u001b[49m\u001b[43m(\u001b[49m\u001b[43mline\u001b[49m\u001b[43m,\u001b[49m\u001b[43m \u001b[49m\u001b[43mcell\u001b[49m\u001b[43m)\u001b[49m\n",
      "File \u001b[0;32m/opt/conda/lib/python3.11/site-packages/IPython/core/magics/script.py:336\u001b[0m, in \u001b[0;36mScriptMagics.shebang\u001b[0;34m(self, line, cell)\u001b[0m\n\u001b[1;32m    331\u001b[0m \u001b[38;5;28;01mif\u001b[39;00m args\u001b[38;5;241m.\u001b[39mraise_error \u001b[38;5;129;01mand\u001b[39;00m p\u001b[38;5;241m.\u001b[39mreturncode \u001b[38;5;241m!=\u001b[39m \u001b[38;5;241m0\u001b[39m:\n\u001b[1;32m    332\u001b[0m     \u001b[38;5;66;03m# If we get here and p.returncode is still None, we must have\u001b[39;00m\n\u001b[1;32m    333\u001b[0m     \u001b[38;5;66;03m# killed it but not yet seen its return code. We don't wait for it,\u001b[39;00m\n\u001b[1;32m    334\u001b[0m     \u001b[38;5;66;03m# in case it's stuck in uninterruptible sleep. -9 = SIGKILL\u001b[39;00m\n\u001b[1;32m    335\u001b[0m     rc \u001b[38;5;241m=\u001b[39m p\u001b[38;5;241m.\u001b[39mreturncode \u001b[38;5;129;01mor\u001b[39;00m \u001b[38;5;241m-\u001b[39m\u001b[38;5;241m9\u001b[39m\n\u001b[0;32m--> 336\u001b[0m     \u001b[38;5;28;01mraise\u001b[39;00m CalledProcessError(rc, cell)\n",
      "\u001b[0;31mCalledProcessError\u001b[0m: Command 'b'\\n# Define paths\\nGENOME_DIR=\"/cephyr/NOBACKUP/groups/bbt045_2025/groups/group_Bjork/data/STAR_index\"\\nFASTQ_DIR=\"/cephyr/NOBACKUP/groups/bbt045_2025/groups/group_Bjork/data/subset_trimmed_RNA-seq/\"\\nOUTPUT_DIR=\"/cephyr/NOBACKUP/groups/bbt045_2025/groups/group_Bjork/data/alignment_STAR_subset\"\\n\\n# Create output directory if it doesn\\'t exist\\nmkdir -p \"$OUTPUT_DIR\"\\n\\n# Loop through FASTQ files\\nfor file1 in ${FASTQ_DIR}/*_1.fastq.gz; do\\n    # Extract sample name\\n    SAMPLE=$(basename \"$file1\" _1.fastq.gz)\\n    file2=\"${FASTQ_DIR}/${SAMPLE}_2.fastq.gz\"\\n\\n    # Run STAR alignment\\n    STAR --runThreadN 8 \\\\\\n         --genomeDir \"$GENOME_DIR\" \\\\\\n         --readFilesIn \"$file1\" \"$file2\" \\\\\\n         --readFilesCommand zcat \\\\\\n         --outFileNamePrefix \"${OUTPUT_DIR}/${SAMPLE}_\" \\\\\\n         --sjdbGTFfile /cephyr/NOBACKUP/groups/bbt045_2025/groups/group_Bjork/human_genome/Homo_sapiens.GRCh38.113.gtf \\\\\\n         --outSAMtype BAM SortedByCoordinate \\\\\\n         --quantMode TranscriptomeSAM GeneCounts\\ndone\\n'' returned non-zero exit status 102."
     ]
    }
   ],
   "source": [
    "%%bash\n",
    "\n",
    "# Define paths\n",
    "GENOME_DIR=\"/cephyr/NOBACKUP/groups/bbt045_2025/groups/group_Bjork/data/STAR_index\"\n",
    "FASTQ_DIR=\"/cephyr/NOBACKUP/groups/bbt045_2025/groups/group_Bjork/data/subset_trimmed_RNA-seq/\"\n",
    "OUTPUT_DIR=\"/cephyr/NOBACKUP/groups/bbt045_2025/groups/group_Bjork/data/alignment_STAR_subset\"\n",
    "\n",
    "# Create output directory if it doesn't exist\n",
    "mkdir -p \"$OUTPUT_DIR\"\n",
    "\n",
    "# Loop through FASTQ files\n",
    "for file1 in ${FASTQ_DIR}/*_1.fastq.gz; do\n",
    "    # Extract sample name\n",
    "    SAMPLE=$(basename \"$file1\" _1.fastq.gz)\n",
    "    file2=\"${FASTQ_DIR}/${SAMPLE}_2.fastq.gz\"\n",
    "\n",
    "    # Run STAR alignment\n",
    "    STAR --runThreadN 8 \\\n",
    "         --genomeDir \"$GENOME_DIR\" \\\n",
    "         --readFilesIn \"$file1\" \"$file2\" \\\n",
    "         --readFilesCommand zcat \\\n",
    "         --outFileNamePrefix \"${OUTPUT_DIR}/${SAMPLE}_\" \\\n",
    "         --sjdbGTFfile /cephyr/NOBACKUP/groups/bbt045_2025/groups/group_Bjork/human_genome/Homo_sapiens.GRCh38.113.gtf \\\n",
    "         --outSAMtype BAM SortedByCoordinate \\\n",
    "         --quantMode TranscriptomeSAM GeneCounts\n",
    "done"
   ]
  },
  {
   "cell_type": "code",
   "execution_count": 5,
   "id": "bc6ef66e-ffd5-4c61-a651-5024a9232a1c",
   "metadata": {},
   "outputs": [
    {
     "name": "stderr",
     "output_type": "stream",
     "text": [
      "/usr/share/lmod/lmod/init/bash: /usr/share/lmod/lmod/libexec/addto: /usr/bin/lua: bad interpreter: No such file or directory\n",
      "[E::hts_open_format] Failed to open file \"/*.bam\" : No such file or directory\n",
      "samtools index: failed to open \"/*.bam\": No such file or directory\n"
     ]
    },
    {
     "ename": "CalledProcessError",
     "evalue": "Command 'b'for bam in ${OUTPUT_DIR}/*.bam; do samtools index \"$bam\"; done\\n'' returned non-zero exit status 1.",
     "output_type": "error",
     "traceback": [
      "\u001b[0;31m---------------------------------------------------------------------------\u001b[0m",
      "\u001b[0;31mCalledProcessError\u001b[0m                        Traceback (most recent call last)",
      "Cell \u001b[0;32mIn[5], line 1\u001b[0m\n\u001b[0;32m----> 1\u001b[0m \u001b[43mget_ipython\u001b[49m\u001b[43m(\u001b[49m\u001b[43m)\u001b[49m\u001b[38;5;241;43m.\u001b[39;49m\u001b[43mrun_cell_magic\u001b[49m\u001b[43m(\u001b[49m\u001b[38;5;124;43m'\u001b[39;49m\u001b[38;5;124;43mbash\u001b[39;49m\u001b[38;5;124;43m'\u001b[39;49m\u001b[43m,\u001b[49m\u001b[43m \u001b[49m\u001b[38;5;124;43m'\u001b[39;49m\u001b[38;5;124;43m'\u001b[39;49m\u001b[43m,\u001b[49m\u001b[43m \u001b[49m\u001b[38;5;124;43m'\u001b[39;49m\u001b[38;5;124;43mfor bam in $\u001b[39;49m\u001b[38;5;132;43;01m{OUTPUT_DIR}\u001b[39;49;00m\u001b[38;5;124;43m/*.bam; do samtools index \u001b[39;49m\u001b[38;5;124;43m\"\u001b[39;49m\u001b[38;5;124;43m$bam\u001b[39;49m\u001b[38;5;124;43m\"\u001b[39;49m\u001b[38;5;124;43m; done\u001b[39;49m\u001b[38;5;130;43;01m\\n\u001b[39;49;00m\u001b[38;5;124;43m'\u001b[39;49m\u001b[43m)\u001b[49m\n",
      "File \u001b[0;32m/opt/conda/lib/python3.11/site-packages/IPython/core/interactiveshell.py:2543\u001b[0m, in \u001b[0;36mInteractiveShell.run_cell_magic\u001b[0;34m(self, magic_name, line, cell)\u001b[0m\n\u001b[1;32m   2541\u001b[0m \u001b[38;5;28;01mwith\u001b[39;00m \u001b[38;5;28mself\u001b[39m\u001b[38;5;241m.\u001b[39mbuiltin_trap:\n\u001b[1;32m   2542\u001b[0m     args \u001b[38;5;241m=\u001b[39m (magic_arg_s, cell)\n\u001b[0;32m-> 2543\u001b[0m     result \u001b[38;5;241m=\u001b[39m \u001b[43mfn\u001b[49m\u001b[43m(\u001b[49m\u001b[38;5;241;43m*\u001b[39;49m\u001b[43margs\u001b[49m\u001b[43m,\u001b[49m\u001b[43m \u001b[49m\u001b[38;5;241;43m*\u001b[39;49m\u001b[38;5;241;43m*\u001b[39;49m\u001b[43mkwargs\u001b[49m\u001b[43m)\u001b[49m\n\u001b[1;32m   2545\u001b[0m \u001b[38;5;66;03m# The code below prevents the output from being displayed\u001b[39;00m\n\u001b[1;32m   2546\u001b[0m \u001b[38;5;66;03m# when using magics with decorator @output_can_be_silenced\u001b[39;00m\n\u001b[1;32m   2547\u001b[0m \u001b[38;5;66;03m# when the last Python token in the expression is a ';'.\u001b[39;00m\n\u001b[1;32m   2548\u001b[0m \u001b[38;5;28;01mif\u001b[39;00m \u001b[38;5;28mgetattr\u001b[39m(fn, magic\u001b[38;5;241m.\u001b[39mMAGIC_OUTPUT_CAN_BE_SILENCED, \u001b[38;5;28;01mFalse\u001b[39;00m):\n",
      "File \u001b[0;32m/opt/conda/lib/python3.11/site-packages/IPython/core/magics/script.py:159\u001b[0m, in \u001b[0;36mScriptMagics._make_script_magic.<locals>.named_script_magic\u001b[0;34m(line, cell)\u001b[0m\n\u001b[1;32m    157\u001b[0m \u001b[38;5;28;01melse\u001b[39;00m:\n\u001b[1;32m    158\u001b[0m     line \u001b[38;5;241m=\u001b[39m script\n\u001b[0;32m--> 159\u001b[0m \u001b[38;5;28;01mreturn\u001b[39;00m \u001b[38;5;28;43mself\u001b[39;49m\u001b[38;5;241;43m.\u001b[39;49m\u001b[43mshebang\u001b[49m\u001b[43m(\u001b[49m\u001b[43mline\u001b[49m\u001b[43m,\u001b[49m\u001b[43m \u001b[49m\u001b[43mcell\u001b[49m\u001b[43m)\u001b[49m\n",
      "File \u001b[0;32m/opt/conda/lib/python3.11/site-packages/IPython/core/magics/script.py:336\u001b[0m, in \u001b[0;36mScriptMagics.shebang\u001b[0;34m(self, line, cell)\u001b[0m\n\u001b[1;32m    331\u001b[0m \u001b[38;5;28;01mif\u001b[39;00m args\u001b[38;5;241m.\u001b[39mraise_error \u001b[38;5;129;01mand\u001b[39;00m p\u001b[38;5;241m.\u001b[39mreturncode \u001b[38;5;241m!=\u001b[39m \u001b[38;5;241m0\u001b[39m:\n\u001b[1;32m    332\u001b[0m     \u001b[38;5;66;03m# If we get here and p.returncode is still None, we must have\u001b[39;00m\n\u001b[1;32m    333\u001b[0m     \u001b[38;5;66;03m# killed it but not yet seen its return code. We don't wait for it,\u001b[39;00m\n\u001b[1;32m    334\u001b[0m     \u001b[38;5;66;03m# in case it's stuck in uninterruptible sleep. -9 = SIGKILL\u001b[39;00m\n\u001b[1;32m    335\u001b[0m     rc \u001b[38;5;241m=\u001b[39m p\u001b[38;5;241m.\u001b[39mreturncode \u001b[38;5;129;01mor\u001b[39;00m \u001b[38;5;241m-\u001b[39m\u001b[38;5;241m9\u001b[39m\n\u001b[0;32m--> 336\u001b[0m     \u001b[38;5;28;01mraise\u001b[39;00m CalledProcessError(rc, cell)\n",
      "\u001b[0;31mCalledProcessError\u001b[0m: Command 'b'for bam in ${OUTPUT_DIR}/*.bam; do samtools index \"$bam\"; done\\n'' returned non-zero exit status 1."
     ]
    }
   ],
   "source": [
    "\n"
   ]
  },
  {
   "cell_type": "code",
   "execution_count": null,
   "id": "effe4181-49b5-467d-961c-3df06ef1b157",
   "metadata": {},
   "outputs": [],
   "source": []
  }
 ],
 "metadata": {
  "kernelspec": {
   "display_name": "Python 3 (ipykernel)",
   "language": "python",
   "name": "python3"
  },
  "language_info": {
   "codemirror_mode": {
    "name": "ipython",
    "version": 3
   },
   "file_extension": ".py",
   "mimetype": "text/x-python",
   "name": "python",
   "nbconvert_exporter": "python",
   "pygments_lexer": "ipython3",
   "version": "3.11.11"
  }
 },
 "nbformat": 4,
 "nbformat_minor": 5
}
