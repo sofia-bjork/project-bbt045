{
 "cells": [
  {
   "cell_type": "code",
   "execution_count": 1,
   "id": "fd4e9270-356c-4583-b178-1192a74dec46",
   "metadata": {},
   "outputs": [],
   "source": [
    "# load R magic into jupyter\n",
    "%load_ext rpy2.ipython"
   ]
  },
  {
   "cell_type": "code",
   "execution_count": 2,
   "id": "ad628ab4-22e0-49a4-a72b-73dad6fabb93",
   "metadata": {},
   "outputs": [],
   "source": [
    "# import relevant python programs\n",
    "import pandas as pd"
   ]
  },
  {
   "cell_type": "markdown",
   "id": "20c7e216-9e99-4197-8562-ab19fe539e63",
   "metadata": {},
   "source": [
    "# Create data frame of counts from featurecounts\n",
    "OBS: This piece of script is dependent on the chosen patient groups when creating the column names."
   ]
  },
  {
   "cell_type": "code",
   "execution_count": 28,
   "id": "d98a36dd-471b-4581-a08e-e1a8a66c0435",
   "metadata": {},
   "outputs": [
    {
     "data": {
      "text/plain": [
       "0     ERR950158\n",
       "1     ERR950159\n",
       "2     ERR950162\n",
       "11    ERR950161\n",
       "17    ERR950177\n",
       "18    ERR950181\n",
       "22    ERR950178\n",
       "23    ERR950179\n",
       "24    ERR950180\n",
       "25    ERR950182\n",
       "26    ERR950186\n",
       "27    ERR950187\n",
       "28    ERR950160\n",
       "29    ERR950163\n",
       "Name: run_accession, dtype: object"
      ]
     },
     "execution_count": 28,
     "metadata": {},
     "output_type": "execute_result"
    }
   ],
   "source": [
    "# create counts data frame\n",
    "counts_file = 'data/Bowtie2_gene_counts/bowtie_subset_counts.txt'\n",
    "sample_names = 'RNA-seq-list.txt'\n",
    "\n",
    "# load only the count data from feature counts\n",
    "counts_df = pd.read_csv(counts_file, sep = '\\t', dtype = 'a', header = 1)\n",
    "# remove information about chromosome, start, end etc\n",
    "counts_df = counts_df.drop(columns = ['Chr', 'Start', 'End', 'Strand', 'Length'])\n",
    "# make Geneid column into indices\n",
    "counts_df = counts_df.set_index('Geneid')\n",
    "\n",
    "# load the file containing the sample names\n",
    "sample_names_df = pd.read_csv(sample_names, sep = '\\t')\n",
    "\n",
    "# choose sample names based on what groups to study\n",
    "sample_names_subset_df = sample_names_df[sample_names_df['library_name'].str.contains('Atr|Hp')]\n",
    "sample_names_subset_df['run_accession']\n",
    "#counts_df = counts_df.set_axis(sample_names_df['run_accession'], axis = 1)"
   ]
  },
  {
   "cell_type": "code",
   "execution_count": null,
   "id": "4e69d1ce-a42f-40b1-b686-73436195df60",
   "metadata": {},
   "outputs": [],
   "source": [
    "%%R\n",
    "setwd('/cephyr/NOBACKUP/groups/bbt045_2025/groups/group_Bjork/')\n",
    "counts_file = 'data/Bowtie2_gene_counts/bowtie_subset_counts.txt'\n",
    "\n",
    "\n",
    "counts_df = read.table(counts_file, sep = '\\t', header = TRUE)\n",
    "head(counts_df)"
   ]
  },
  {
   "cell_type": "code",
   "execution_count": null,
   "id": "f21ef96a-026d-4fc4-ba02-f6d1d8212a4f",
   "metadata": {},
   "outputs": [],
   "source": []
  },
  {
   "cell_type": "code",
   "execution_count": null,
   "id": "11c5d886-52ba-48d7-bd2f-74420a1bee85",
   "metadata": {},
   "outputs": [],
   "source": []
  }
 ],
 "metadata": {
  "kernelspec": {
   "display_name": "Python 3 (ipykernel)",
   "language": "python",
   "name": "python3"
  },
  "language_info": {
   "codemirror_mode": {
    "name": "ipython",
    "version": 3
   },
   "file_extension": ".py",
   "mimetype": "text/x-python",
   "name": "python",
   "nbconvert_exporter": "python",
   "pygments_lexer": "ipython3",
   "version": "3.11.11"
  }
 },
 "nbformat": 4,
 "nbformat_minor": 5
}
