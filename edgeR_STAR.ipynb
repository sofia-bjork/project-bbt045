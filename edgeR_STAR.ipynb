{
 "cells": [
  {
   "cell_type": "markdown",
   "id": "91a1fb12-9984-46b6-af3c-6a8016133e6f",
   "metadata": {},
   "source": [
    "# Differential Expression Analysis using edgeR\n",
    "using the alignment data from STAR"
   ]
  },
  {
   "cell_type": "code",
   "execution_count": 1,
   "id": "a36a2e69-1274-40b8-bdec-45dd2f2b3757",
   "metadata": {},
   "outputs": [],
   "source": [
    "#Extension for R magic\n",
    "%load_ext rpy2.ipython"
   ]
  },
  {
   "cell_type": "code",
   "execution_count": 21,
   "id": "ad80b0f8-706f-466d-9bd0-fdae2d812572",
   "metadata": {
    "scrolled": true
   },
   "outputs": [
    {
     "name": "stdout",
     "output_type": "stream",
     "text": [
      " [1] \"ERR950158_trimmed.counts.txt\"        \n",
      " [2] \"ERR950158_trimmed.counts.txt.summary\"\n",
      " [3] \"ERR950159_trimmed.counts.txt\"        \n",
      " [4] \"ERR950159_trimmed.counts.txt.summary\"\n",
      " [5] \"ERR950160_trimmed.counts.txt\"        \n",
      " [6] \"ERR950160_trimmed.counts.txt.summary\"\n",
      " [7] \"ERR950161_trimmed.counts.txt\"        \n",
      " [8] \"ERR950161_trimmed.counts.txt.summary\"\n",
      " [9] \"ERR950162_trimmed.counts.txt\"        \n",
      "[10] \"ERR950162_trimmed.counts.txt.summary\"\n",
      "[11] \"ERR950163_trimmed.counts.txt\"        \n",
      "[12] \"ERR950163_trimmed.counts.txt.summary\"\n",
      "[13] \"ERR950177_trimmed.counts.txt\"        \n",
      "[14] \"ERR950177_trimmed.counts.txt.summary\"\n",
      "[15] \"ERR950178_trimmed.counts.txt\"        \n",
      "[16] \"ERR950178_trimmed.counts.txt.summary\"\n",
      "[17] \"ERR950179_trimmed.counts.txt\"        \n",
      "[18] \"ERR950179_trimmed.counts.txt.summary\"\n",
      "[19] \"ERR950180_trimmed.counts.txt\"        \n",
      "[20] \"ERR950180_trimmed.counts.txt.summary\"\n",
      "[21] \"ERR950181_trimmed.counts.txt\"        \n",
      "[22] \"ERR950181_trimmed.counts.txt.summary\"\n",
      "[23] \"ERR950182_trimmed.counts.txt\"        \n",
      "[24] \"ERR950182_trimmed.counts.txt.summary\"\n",
      "[25] \"ERR950186_trimmed.counts.txt\"        \n",
      "[26] \"ERR950186_trimmed.counts.txt.summary\"\n",
      "[27] \"ERR950187_trimmed.counts.txt\"        \n",
      "[28] \"ERR950187_trimmed.counts.txt.summary\"\n",
      "[29] \"test.counts.txt\"                     \n",
      "[30] \"test.counts.txt.summary\"             \n"
     ]
    }
   ],
   "source": [
    "%%R\n",
    "setwd(\"/cephyr/NOBACKUP/groups/bbt045_2025/groups/group_Bjork/data\")\n",
    "\n",
    "samples <- list.files(\"gene_counts_DESeq\")\n",
    "print(samples)"
   ]
  },
  {
   "cell_type": "markdown",
   "id": "2d2da20f-d7dc-4ab1-94bd-314d37373c4a",
   "metadata": {},
   "source": [
    "# Counts per gene for one test sample"
   ]
  },
  {
   "cell_type": "code",
   "execution_count": 5,
   "id": "62b548b0-e497-45db-a3a3-085345f11654",
   "metadata": {},
   "outputs": [
    {
     "name": "stderr",
     "output_type": "stream",
     "text": [
      "/usr/share/lmod/lmod/init/bash: /usr/share/lmod/lmod/libexec/addto: /usr/bin/lua: bad interpreter: No such file or directory\n"
     ]
    },
    {
     "name": "stdout",
     "output_type": "stream",
     "text": [
      "htseq-count completed successfully. Output saved in /cephyr/NOBACKUP/groups/bbt045_2025/groups/group_Bjork/data/CN_gene_counts_TEST/ERR950158_htseq_counts.txt\n"
     ]
    }
   ],
   "source": [
    "%%bash\n",
    "\n",
    "# Set variables\n",
    "gtf_file=\"/cephyr/NOBACKUP/groups/bbt045_2025/groups/group_Bjork/human_genome/Homo_sapiens.GRCh38.113.gtf\"\n",
    "output_dir=\"/cephyr/NOBACKUP/groups/bbt045_2025/groups/group_Bjork/data/CN_gene_counts_TEST\"\n",
    "bam_file=\"/cephyr/NOBACKUP/groups/bbt045_2025/groups/group_Bjork/data/alignment_STAR_subset/ERR950158_trimmed_Aligned.sortedByCoord.out.bam\"\n",
    "output_file=\"$output_dir/ERR950158_htseq_counts.txt\"\n",
    "\n",
    "# Create output directory if it does not exist\n",
    "mkdir -p \"$output_dir\"\n",
    "\n",
    "# Sort BAM file by name for htseq-count\n",
    "sorted_bam_file=\"$output_dir/ERR950158_sorted.bam\"\n",
    "samtools sort -n -o \"$sorted_bam_file\" \"$bam_file\"\n",
    "\n",
    "# Run htseq-count\n",
    "htseq-count -f bam -r name -s no -t exon -i gene_id \"$sorted_bam_file\" \"$gtf_file\" > \"$output_file\" 2> \"$output_dir/htseq-count.log\"\n",
    "\n",
    "# Check if htseq-count ran successfully\n",
    "if [ $? -eq 0 ]; then\n",
    "    echo \"htseq-count completed successfully. Output saved in $output_file\"\n",
    "else\n",
    "    echo \"htseq-count failed. Check log file at $output_dir/htseq-count.log\" >&2\n",
    "    exit 1\n",
    "fi"
   ]
  },
  {
   "cell_type": "markdown",
   "id": "0ea7db34-113b-40b2-8402-a81c728bd28b",
   "metadata": {},
   "source": [
    "# Counts per gene for the entire subset"
   ]
  },
  {
   "cell_type": "code",
   "execution_count": null,
   "id": "5e6c12bb-19d8-4a80-b8ec-7943846d5a43",
   "metadata": {},
   "outputs": [
    {
     "name": "stderr",
     "output_type": "stream",
     "text": [
      "/usr/share/lmod/lmod/init/bash: /usr/share/lmod/lmod/libexec/addto: /usr/bin/lua: bad interpreter: No such file or directory\n"
     ]
    },
    {
     "name": "stdout",
     "output_type": "stream",
     "text": [
      "htseq-count completed successfully. Output saved in /cephyr/NOBACKUP/groups/bbt045_2025/groups/group_Bjork/data/CN_gene_counts_TEST/ERR950158_trimmed_htseq_counts.txt\n",
      "htseq-count completed successfully. Output saved in /cephyr/NOBACKUP/groups/bbt045_2025/groups/group_Bjork/data/CN_gene_counts_TEST/ERR950159_trimmed_htseq_counts.txt\n",
      "htseq-count completed successfully. Output saved in /cephyr/NOBACKUP/groups/bbt045_2025/groups/group_Bjork/data/CN_gene_counts_TEST/ERR950160_trimmed_htseq_counts.txt\n",
      "htseq-count completed successfully. Output saved in /cephyr/NOBACKUP/groups/bbt045_2025/groups/group_Bjork/data/CN_gene_counts_TEST/ERR950161_trimmed_htseq_counts.txt\n",
      "htseq-count completed successfully. Output saved in /cephyr/NOBACKUP/groups/bbt045_2025/groups/group_Bjork/data/CN_gene_counts_TEST/ERR950162_trimmed_htseq_counts.txt\n",
      "htseq-count completed successfully. Output saved in /cephyr/NOBACKUP/groups/bbt045_2025/groups/group_Bjork/data/CN_gene_counts_TEST/ERR950163_trimmed_htseq_counts.txt\n",
      "htseq-count completed successfully. Output saved in /cephyr/NOBACKUP/groups/bbt045_2025/groups/group_Bjork/data/CN_gene_counts_TEST/ERR950177_trimmed_htseq_counts.txt\n",
      "htseq-count completed successfully. Output saved in /cephyr/NOBACKUP/groups/bbt045_2025/groups/group_Bjork/data/CN_gene_counts_TEST/ERR950178_trimmed_htseq_counts.txt\n",
      "htseq-count completed successfully. Output saved in /cephyr/NOBACKUP/groups/bbt045_2025/groups/group_Bjork/data/CN_gene_counts_TEST/ERR950179_trimmed_htseq_counts.txt\n",
      "htseq-count completed successfully. Output saved in /cephyr/NOBACKUP/groups/bbt045_2025/groups/group_Bjork/data/CN_gene_counts_TEST/ERR950180_trimmed_htseq_counts.txt\n",
      "htseq-count completed successfully. Output saved in /cephyr/NOBACKUP/groups/bbt045_2025/groups/group_Bjork/data/CN_gene_counts_TEST/ERR950181_trimmed_htseq_counts.txt\n",
      "htseq-count completed successfully. Output saved in /cephyr/NOBACKUP/groups/bbt045_2025/groups/group_Bjork/data/CN_gene_counts_TEST/ERR950182_trimmed_htseq_counts.txt\n",
      "htseq-count completed successfully. Output saved in /cephyr/NOBACKUP/groups/bbt045_2025/groups/group_Bjork/data/CN_gene_counts_TEST/ERR950186_trimmed_htseq_counts.txt\n"
     ]
    }
   ],
   "source": [
    "%%bash\n",
    "\n",
    "# Set variables\n",
    "gtf_file=\"/cephyr/NOBACKUP/groups/bbt045_2025/groups/group_Bjork/human_genome/Homo_sapiens.GRCh38.113.gtf\"\n",
    "output_dir=\"/cephyr/NOBACKUP/groups/bbt045_2025/groups/group_Bjork/data/CN_gene_counts_TEST\"\n",
    "aligned_dir=\"/cephyr/NOBACKUP/groups/bbt045_2025/groups/group_Bjork/data/alignment_STAR_subset/\"\n",
    "\n",
    "# Create output directory if it does not exist\n",
    "mkdir -p \"$output_dir\"\n",
    "\n",
    "\n",
    "# Loop through BAM files\n",
    "for bam_file in ${aligned_dir}/*sortedByCoord.out.bam; do\n",
    "    # Extract sample name\n",
    "    SAMPLE=$(basename \"$bam_file\" _Aligned.sortedByCoord.out.bam)\n",
    "    \n",
    "    # Define output files\n",
    "    sorted_bam_file=\"$output_dir/${SAMPLE}_sorted.bam\"\n",
    "    output_file=\"$output_dir/${SAMPLE}_htseq_counts.txt\"\n",
    "    log_file=\"$output_dir/${SAMPLE}_htseq-count.log\"\n",
    "\n",
    "    # Sort BAM file by name for htseq-count\n",
    "    samtools sort -n -o \"$sorted_bam_file\" \"$bam_file\"\n",
    "\n",
    "    # Check if samtools sort was successful\n",
    "    if [ $? -ne 0 ]; then\n",
    "        echo \"Error: samtools sort failed for $bam_file\" >&2\n",
    "        continue\n",
    "    fi\n",
    "\n",
    "    # Run htseq-count\n",
    "    htseq-count -f bam -r name -s no -t exon -i gene_id \"$sorted_bam_file\" \"$gtf_file\" > \"$output_file\" 2> \"$log_file\"\n",
    "\n",
    "    # Check if htseq-count ran successfully\n",
    "    if [ $? -eq 0 ]; then\n",
    "        echo \"htseq-count completed successfully. Output saved in $output_file\"\n",
    "    else\n",
    "        echo \"htseq-count failed for $bam_file. Check log file at $log_file\" >&2\n",
    "        echo \"htseq-count log:\"\n",
    "        cat \"$log_file\"\n",
    "    fi\n",
    "\n",
    "done"
   ]
  },
  {
   "cell_type": "markdown",
   "id": "c75b5e46-89e3-43c0-b044-600b348f72f0",
   "metadata": {},
   "source": [
    "# Move sample_sorted.bam and htseq-count_log file into a subdirectory"
   ]
  },
  {
   "cell_type": "code",
   "execution_count": 1,
   "id": "0185c081-6f34-425b-b0d1-7d74983d21fb",
   "metadata": {},
   "outputs": [
    {
     "name": "stderr",
     "output_type": "stream",
     "text": [
      "/usr/share/lmod/lmod/init/bash: /usr/share/lmod/lmod/libexec/addto: /usr/bin/lua: bad interpreter: No such file or directory\n"
     ]
    },
    {
     "name": "stdout",
     "output_type": "stream",
     "text": [
      "Files moved successfully to /cephyr/NOBACKUP/groups/bbt045_2025/groups/group_Bjork/data/CN_gene_counts_TEST/sub_dir_count\n"
     ]
    }
   ],
   "source": [
    "%%bash\n",
    "\n",
    "count_dir=\"/cephyr/NOBACKUP/groups/bbt045_2025/groups/group_Bjork/data/CN_gene_counts_TEST\"\n",
    "sub_dir_count=\"/cephyr/NOBACKUP/groups/bbt045_2025/groups/group_Bjork/data/CN_gene_counts_TEST/sub_dir_count\"\n",
    "\n",
    "mkdir -p \"$sub_dir_count\"\n",
    "\n",
    "# Move BAM and log files to the sub-directory\n",
    "for file in \"$count_dir\"/*_sorted.bam \"$count_dir\"/*.log; do\n",
    "    if [ -e \"$file\" ]; then  # Check if the file exists\n",
    "        mv \"$file\" \"$sub_dir_count/\"\n",
    "    fi\n",
    "done\n",
    "\n",
    "echo \"Files moved successfully to $sub_dir_count\"\n"
   ]
  },
  {
   "cell_type": "markdown",
   "id": "4a3d2b5a-e831-4f51-8c96-5bd1757b407e",
   "metadata": {},
   "source": [
    "# Creating a count table with genes"
   ]
  },
  {
   "cell_type": "code",
   "execution_count": 2,
   "id": "72af6e25-f9bf-45d4-9931-d1a72eac96e7",
   "metadata": {},
   "outputs": [
    {
     "name": "stderr",
     "output_type": "stream",
     "text": [
      "/usr/share/lmod/lmod/init/bash: /usr/share/lmod/lmod/libexec/addto: /usr/bin/lua: bad interpreter: No such file or directory\n"
     ]
    },
    {
     "name": "stdout",
     "output_type": "stream",
     "text": [
      "Merged file saved as: /cephyr/NOBACKUP/groups/bbt045_2025/groups/group_Bjork/data/CN_gene_counts_TEST/merged_counts.txt\n"
     ]
    }
   ],
   "source": [
    "%%bash\n",
    "\n",
    "# Define input directory containing the count files\n",
    "input_dir=\"/cephyr/NOBACKUP/groups/bbt045_2025/groups/group_Bjork/data/CN_gene_counts_TEST\"\n",
    "\n",
    "# Define output file\n",
    "output_file=\"$input_dir/merged_counts.txt\"\n",
    "\n",
    "# Get list of count files\n",
    "count_files=(\"$input_dir\"/*_trimmed_htseq_counts.txt)\n",
    "\n",
    "# Check if there are count files\n",
    "if [ ${#count_files[@]} -eq 0 ]; then\n",
    "    echo \"Error: No count files found in $input_dir\" >&2\n",
    "    exit 1\n",
    "fi\n",
    "\n",
    "# Use the first file as a reference to check gene consistency\n",
    "first_file=\"${count_files[0]}\"\n",
    "awk '{print $1}' \"$first_file\" | sort > /tmp/gene_list_reference.txt\n",
    "\n",
    "# Merge files based on first column\n",
    "awk -v ref_file=\"/tmp/gene_list_reference.txt\" '\n",
    "    BEGIN { OFS=\"\\t\"; while ((getline < ref_file) > 0) ref_genes[$1] = 1; close(ref_file) }\n",
    "    FNR==1 { files++ }  # Track number of files\n",
    "    {\n",
    "        gene_id = $1\n",
    "        count = $2\n",
    "        if (!(gene_id in ref_genes)) {\n",
    "            print \"Error: Gene \" gene_id \" is missing from one or more files!\" > \"/dev/stderr\"\n",
    "            exit 1\n",
    "        }\n",
    "        counts[gene_id, FILENAME] = count\n",
    "        genes[gene_id]  # Store unique gene IDs\n",
    "    }\n",
    "    END {\n",
    "        # Print header\n",
    "        printf \"Gene_ID\"\n",
    "        for (i in ARGV) {\n",
    "            if (ARGV[i] ~ /_trimmed_htseq_counts.txt$/) {\n",
    "                sample_name = ARGV[i]\n",
    "                sub(\".*/\", \"\", sample_name)  # Remove path\n",
    "                sub(\"_trimmed_htseq_counts.txt\", \"\", sample_name)  # Extract sample ID\n",
    "                printf \"\\t%s\", sample_name\n",
    "            }\n",
    "        }\n",
    "        print \"\"\n",
    "\n",
    "        # Print merged counts\n",
    "        for (gene in genes) {\n",
    "            split(gene, arr, SUBSEP)\n",
    "            printf \"%s\", arr[1]  # Print gene ID\n",
    "            for (i in ARGV) {\n",
    "                if (ARGV[i] ~ /_trimmed_htseq_counts.txt$/) {\n",
    "                    file = ARGV[i]\n",
    "                    printf \"\\t%s\", (counts[arr[1], file] ? counts[arr[1], file] : 0)\n",
    "                }\n",
    "            }\n",
    "            print \"\"\n",
    "        }\n",
    "    }\n",
    "' \"${count_files[@]}\" > \"$output_file\"\n",
    "\n",
    "echo \"Merged file saved as: $output_file\"\n"
   ]
  },
  {
   "cell_type": "code",
   "execution_count": 2,
   "id": "dffd1c2b-97b4-4a29-8187-4ad794bc9287",
   "metadata": {},
   "outputs": [
    {
     "name": "stdout",
     "output_type": "stream",
     "text": [
      "          Gene_ID ERR950160 ERR950180 ERR950178 ERR950163 ERR950162 ERR950159\n",
      "1 ENSG00000302920         0         0         0         0         0         0\n",
      "2 ENSG00000302638         0         0         1         0         0         0\n",
      "3 ENSG00000287685         0         0         0         0         0         0\n",
      "4 ENSG00000277202         0         1         0         0         0         0\n",
      "5 ENSG00000267470         2         0         1         1         1         1\n",
      "6 ENSG00000264808         0         0         1         0         0         0\n",
      "  ERR950181 ERR950158 ERR950161 ERR950182 ERR950179 ERR950177 ERR950186\n",
      "1         0         0         0         0         0         0         0\n",
      "2         0         0         0         0         0         0         0\n",
      "3         0         0         0         0         0         0         0\n",
      "4         0         0         0         0         0         0         0\n",
      "5         0         2         2         0         0         0         1\n",
      "6         0         0         0         0         0         0         0\n"
     ]
    }
   ],
   "source": [
    "%%R\n",
    "\n",
    "setwd(\"/cephyr/NOBACKUP/groups/bbt045_2025/groups/group_Bjork/data/CN_gene_counts_TEST\")\n",
    "gene_count_table = read.table('merged_counts.txt', header=TRUE, stringsAsFactors=FALSE)\n",
    "head(gene_count_table)"
   ]
  },
  {
   "cell_type": "code",
   "execution_count": 3,
   "id": "d41e4b59-18ca-4d3b-a421-6400046838c5",
   "metadata": {},
   "outputs": [
    {
     "name": "stdout",
     "output_type": "stream",
     "text": [
      "          Gene_ID ERR950160 ERR950180 ERR950178 ERR950163 ERR950162 ERR950159\n",
      "1 ENSG00000302920         0         0         0         0         0         0\n",
      "2 ENSG00000302638         9         1         3         3         2         0\n",
      "3 ENSG00000287685         0         0         0         0         0         0\n",
      "4 ENSG00000277202         1         2         7         3         0         1\n",
      "5 ENSG00000267470        80        70        79        52        46        51\n",
      "6 ENSG00000264808         8         4         4         5        11         4\n",
      "  ERR950181 ERR950158 ERR950161 ERR950182 ERR950179 ERR950177 ERR950187\n",
      "1         0         0         0         0         0         0         0\n",
      "2         2         5         4         2         0         6         5\n",
      "3         0         0         0         0         0         0         0\n",
      "4         1         2         9         1         1         0         1\n",
      "5        42       115       104        43        35        54        36\n",
      "6         4         5         7         2         1         0         9\n",
      "  ERR950186\n",
      "1         0\n",
      "2         2\n",
      "3         1\n",
      "4         3\n",
      "5        39\n",
      "6         1\n"
     ]
    }
   ],
   "source": [
    "%%R\n",
    "\n",
    "setwd(\"/cephyr/NOBACKUP/groups/bbt045_2025/groups/group_Bjork/data/STAR_gene_counts\")\n",
    "gene_count_table = read.table('merged_counts.txt', header=TRUE, stringsAsFactors=FALSE)\n",
    "head(gene_count_table)"
   ]
  },
  {
   "cell_type": "markdown",
   "id": "fa295bab-2093-4add-a127-f5cceab3a3af",
   "metadata": {},
   "source": [
    "# edgeR "
   ]
  },
  {
   "cell_type": "code",
   "execution_count": 1,
   "id": "ec7d2384-6518-4823-a8c0-b76aca0b3679",
   "metadata": {},
   "outputs": [
    {
     "name": "stderr",
     "output_type": "stream",
     "text": [
      "R[write to console]: Loading required package: limma\n",
      "\n"
     ]
    },
    {
     "data": {
      "text/plain": [
       "<rpy2.rinterface_lib.sexp.NULLType object at 0x148ad97f37d0> [0]"
      ]
     },
     "execution_count": 1,
     "metadata": {},
     "output_type": "execute_result"
    }
   ],
   "source": [
    "import rpy2.robjects as robjects\n",
    "\n",
    "r_edger_script = \"\"\"\n",
    "library(edgeR)                                              \n",
    "\n",
    "# Load count matrix\n",
    "count_matrix <- read.table(\"data/STAR_DE_analysis/STAR_merged_counts.txt\", header = TRUE, sep = \"\\t\", row.names=1)\n",
    "metadata <- read.table(\"data/STAR_DE_analysis/STAR_metadata.txt\", header = TRUE)\n",
    "\n",
    "# Convert to numeric matrix\n",
    "count_matrix <- as.matrix(count_matrix)\n",
    "mode(count_matrix) <- \"numeric\"\n",
    "\n",
    "# Set row names for metadata\n",
    "rownames(metadata) <- metadata$Sample_ID\n",
    "\n",
    "# Ensure Diagnosis is a factor with correct levels\n",
    "metadata$Diagnosis <- factor(metadata$Diagnosis, levels = c(\"Atr\", \"Hp\"))\n",
    "\n",
    "# Find common samples in both metadata and count matrix\n",
    "samples <- intersect(rownames(metadata), colnames(count_matrix))\n",
    "count_matrix <- count_matrix[, samples]\n",
    "metadata <- metadata[samples, , drop = FALSE]\n",
    "\n",
    "# Create DGEList object\n",
    "dge <- DGEList(counts = count_matrix, group = metadata$Diagnosis)\n",
    "\n",
    "# Filter low-expressed genes\n",
    "keep <- filterByExpr(dge, group = metadata$Diagnosis)\n",
    "dge <- dge[keep, , keep.lib.sizes=FALSE]\n",
    "\n",
    "# Normalize for library size\n",
    "dge <- calcNormFactors(dge)\n",
    "\n",
    "# Create design matrix\n",
    "design <- model.matrix(~metadata$Diagnosis)\n",
    "\n",
    "# Estimate dispersion\n",
    "dge <- estimateDisp(dge, design)\n",
    "\n",
    "# Fit the GLM model\n",
    "fit <- glmFit(dge, design)\n",
    "\n",
    "# Perform differential expression test (Likelihood Ratio Test)\n",
    "lrt <- glmLRT(fit, coef=2)  \n",
    "\n",
    "# Extract results\n",
    "results <- topTags(lrt, n=Inf)$table\n",
    "\n",
    "# Save results\n",
    "write.csv(results, \"STAR.edgeR_results.csv\")\n",
    "\"\"\"\n",
    "\n",
    "# Run edgeR inside Python\n",
    "robjects.r(r_edger_script)\n"
   ]
  },
  {
   "cell_type": "code",
   "execution_count": null,
   "id": "d2770f0d-b2d8-444d-9c1e-0900a4225463",
   "metadata": {},
   "outputs": [],
   "source": [
    "import pandas as pd\n",
    "import statsmodels.stats.multitest as smm\n",
    "\n",
    "# Load results\n",
    "DESeq2_STAR_results = pd.read_csv(\"STAR.edgeR_results.csv\")\n",
    "\n",
    "# Ensure correct column name\n",
    "if \"FDR\" not in DESeq2_STAR_results.columns:\n",
    "    raise ValueError(\"Column 'FDR' not found in input file. Check column names.\")\n",
    "\n",
    "# Drop NaN values in FDR column\n",
    "DESeq2_STAR_results = DESeq2_STAR_results.dropna(subset=[\"FDR\"])\n",
    "\n",
    "# Convert to float to ensure compatibility\n",
    "pvals = DESeq2_STAR_results[\"FDR\"].astype(float)\n",
    "\n",
    "# Apply FDR correction\n",
    "significant, corrected_pvals = smm.fdrcorrection(pvals, alpha=0.05, method='indep', is_sorted=False)\n",
    "\n",
    "# Add corrected values to dataframe\n",
    "DESeq2_STAR_results[\"FDR_corrected_padj\"] = corrected_pvals\n",
    "DESeq2_STAR_results[\"Significant\"] = significant\n",
    "\n",
    "# Sort results by corrected p-value\n",
    "DESeq2_STAR_filtered_results = DESeq2_STAR_results.sort_values(\"FDR_corrected_padj\", ascending=True)\n",
    "\n",
    "# Print significant genes\n",
    "print(DESeq2_STAR_filtered_results.loc[DESeq2_STAR_filtered_results[\"FDR\"] <= 0.05])\n",
    "\n",
    "# Count number of significant genes\n",
    "print(len(DESeq2_STAR_filtered_results[DESeq2_STAR_filtered_results[\"Significant\"] == True]))"
   ]
  },
  {
   "cell_type": "markdown",
   "id": "b19d0455-1c96-406f-988b-6d9d5f4965e0",
   "metadata": {},
   "source": [
    "# Testing if the order of the sample IDs in the metadata file matters"
   ]
  },
  {
   "cell_type": "code",
   "execution_count": 20,
   "id": "81d4fcd3-6216-44e6-ad12-d8b543e2e5db",
   "metadata": {},
   "outputs": [
    {
     "name": "stderr",
     "output_type": "stream",
     "text": [
      "/usr/share/lmod/lmod/init/bash: /usr/share/lmod/lmod/libexec/addto: /usr/bin/lua: bad interpreter: No such file or directory\n"
     ]
    },
    {
     "name": "stdout",
     "output_type": "stream",
     "text": [
      "Reordered matrix saved as reordered_matrix.txt\n"
     ]
    }
   ],
   "source": [
    "%%bash\n",
    "cd /cephyr/NOBACKUP/groups/bbt045_2025/groups/group_Bjork/data/STAR_DE_analysis/\n",
    "\n",
    "order=(\n",
    "    \"ERR950160\"\n",
    "    \"ERR950180\"\n",
    "    \"ERR950178\"\n",
    "    \"ERR950163\"\n",
    "    \"ERR950162\"\n",
    "    \"ERR950159\"\n",
    "    \"ERR950181\"\n",
    "    \"ERR950158\"\n",
    "    \"ERR950161\"\n",
    "    \"ERR950182\"\n",
    "    \"ERR950179\"\n",
    "    \"ERR950177\"\n",
    "    \"ERR950187\"\n",
    "    \"ERR950186\"\n",
    ")\n",
    "\n",
    "# Print the header\n",
    "head -n 1 STAR_metadata_2.txt > reordered_STAR_metadata_2.txt\n",
    "\n",
    "# Print the rows in the specified order\n",
    "for sample in \"${order[@]}\"; do\n",
    "    grep -P \"$sample\" STAR_metadata_2.txt >> reordered_STAR_metadata_2.txt\n",
    "done\n",
    "\n",
    "echo \"Reordered matrix saved as reordered_matrix.txt\""
   ]
  },
  {
   "cell_type": "markdown",
   "id": "4cb1479b-12ed-4f1f-90ab-5a1e9fa542a5",
   "metadata": {},
   "source": [
    "# EdgeR clean code\n",
    "Frågor:\n",
    "- Är det rätt att the står logCPM när det är TMM jag använt? Nej?\n",
    "- Hur vad ändrar jag de till istället?\n",
    "- Hur ser jag hur många gener som filtreras bort?\n",
    "- Under inlämning i förra kursen så gjorde vi logCPM på varje gen för varje sample och plottade PCA men här verkar vi ha bara ha en column för logCPM? Borde vi inte har 14 (en för varje sample)?"
   ]
  },
  {
   "cell_type": "code",
   "execution_count": 14,
   "id": "de712625-3b1e-42eb-b06e-ab4d2fe1f253",
   "metadata": {},
   "outputs": [
    {
     "name": "stdout",
     "output_type": "stream",
     "text": [
      "The rpy2.ipython extension is already loaded. To reload it, use:\n",
      "  %reload_ext rpy2.ipython\n"
     ]
    }
   ],
   "source": [
    "#Extension for R magic\n",
    "%load_ext rpy2.ipython"
   ]
  },
  {
   "cell_type": "code",
   "execution_count": 15,
   "id": "6f0429b6-e8eb-4b79-bde3-cd6b19c2dd85",
   "metadata": {},
   "outputs": [],
   "source": [
    "%%R\n",
    "#set working directory\n",
    "setwd(\"/cephyr/NOBACKUP/groups/bbt045_2025/groups/group_Bjork\")"
   ]
  },
  {
   "cell_type": "code",
   "execution_count": 16,
   "id": "a4042236-7fcd-4fd5-b9ef-aabf1a45c379",
   "metadata": {},
   "outputs": [],
   "source": [
    "%%R\n",
    "\n",
    "library(edgeR)                                              \n",
    "\n",
    "# Load count matrix\n",
    "count_matrix <- read.table(\"data/STAR_DE_analysis/STAR_merged_counts.txt\", header = TRUE, sep = \"\\t\", row.names=1)\n",
    "metadata <- read.table(\"data/STAR_DE_analysis/reordered_STAR_metadata_2.txt\", header = TRUE)\n",
    "\n",
    "# Convert to numeric matrix\n",
    "count_matrix <- as.matrix(count_matrix)\n",
    "mode(count_matrix) <- \"numeric\"\n",
    "\n",
    "# Set row names for metadata\n",
    "rownames(metadata) <- metadata$Sample_ID\n",
    "\n",
    "# Ensure Diagnosis is a factor with correct levels\n",
    "metadata$Diagnosis <- factor(metadata$Diagnosis, levels = c(\"Hp\", \"Atr\"))\n",
    "\n",
    "# Find common samples in both metadata and count matrix\n",
    "samples <- intersect(rownames(metadata), colnames(count_matrix))\n",
    "count_matrix <- count_matrix[, samples]\n",
    "metadata <- metadata[samples, , drop = FALSE]"
   ]
  },
  {
   "cell_type": "code",
   "execution_count": 17,
   "id": "29f0cd75-e726-41e9-b028-2faf3c4bf17a",
   "metadata": {},
   "outputs": [
    {
     "name": "stdout",
     "output_type": "stream",
     "text": [
      "Formal class 'DGEList' [package \"edgeR\"] with 1 slot\n",
      "  ..@ .Data:List of 2\n",
      "  .. ..$ : num [1:78937, 1:14] 0 9 0 1 80 8 11 2 0 18 ...\n",
      "  .. .. ..- attr(*, \"dimnames\")=List of 2\n",
      "  .. .. .. ..$ : chr [1:78937] \"ENSG00000302920\" \"ENSG00000302638\" \"ENSG00000287685\" \"ENSG00000277202\" ...\n",
      "  .. .. .. ..$ : chr [1:14] \"ERR950160\" \"ERR950180\" \"ERR950178\" \"ERR950163\" ...\n",
      "  .. ..$ :'data.frame':\t14 obs. of  3 variables:\n",
      "  .. .. ..$ group       : Factor w/ 2 levels \"Hp\",\"Atr\": 2 2 1 2 2 2 2 2 2 2 ...\n",
      "  .. .. ..$ lib.size    : num [1:14] 29126741 30734625 25029565 22330233 35700840 ...\n",
      "  .. .. ..$ norm.factors: num [1:14] 1 1 1 1 1 1 1 1 1 1 ...\n",
      "  ..$ names: chr [1:2] \"counts\" \"samples\"\n"
     ]
    }
   ],
   "source": [
    "%%R\n",
    "# Create DGEList object\n",
    "dge <- DGEList(counts = count_matrix, group = metadata$Diagnosis)\n",
    "str(dge)"
   ]
  },
  {
   "cell_type": "code",
   "execution_count": 18,
   "id": "462f8df4-5401-49b8-80be-943e0f831e5e",
   "metadata": {},
   "outputs": [
    {
     "name": "stdout",
     "output_type": "stream",
     "text": [
      "ENSG00000302920 ENSG00000302638 ENSG00000287685 ENSG00000277202 ENSG00000267470 \n",
      "          FALSE           FALSE           FALSE           FALSE            TRUE \n",
      "ENSG00000264808 \n",
      "          FALSE \n",
      "An object of class \"DGEList\"\n",
      "$counts\n",
      "                ERR950160 ERR950180 ERR950178 ERR950163 ERR950162 ERR950159\n",
      "ENSG00000267470        80        70        79        52        46        51\n",
      "ENSG00000215277        18        15         9        11        12        12\n",
      "ENSG00000186106       226       262       192       162        51       124\n",
      "ENSG00000177469       272       312       171       155       112       127\n",
      "ENSG00000297667        11        16         1         9         9         0\n",
      "ENSG00000262902         5        25        26        11        48        16\n",
      "                ERR950181 ERR950158 ERR950161 ERR950182 ERR950179 ERR950177\n",
      "ENSG00000267470        42       115       104        43        35        54\n",
      "ENSG00000215277        16        17        32        19        13         2\n",
      "ENSG00000186106       218       294       250       197       140       318\n",
      "ENSG00000177469       279       548       239       160       136       228\n",
      "ENSG00000297667        11        22        28         9         5         8\n",
      "ENSG00000262902        33        13        30        22        15         6\n",
      "                ERR950187 ERR950186\n",
      "ENSG00000267470        36        39\n",
      "ENSG00000215277        11        10\n",
      "ENSG00000186106       208       259\n",
      "ENSG00000177469       225       195\n",
      "ENSG00000297667         3         7\n",
      "ENSG00000262902        10        29\n",
      "\n",
      "$samples\n",
      "          group lib.size norm.factors\n",
      "ERR950160   Atr 29044543            1\n",
      "ERR950180   Atr 30655523            1\n",
      "ERR950178    Hp 24965103            1\n",
      "ERR950163   Atr 22267190            1\n",
      "ERR950162   Atr 35599524            1\n",
      "9 more rows ...\n",
      "\n",
      "[1] 76\n"
     ]
    }
   ],
   "source": [
    "%%R\n",
    "#Removes genes with low sequencing depth\n",
    "keep <- filterByExpr(dge, group = metadata$Diagnosis)\n",
    "dge <- dge[keep, , keep.lib.sizes=FALSE]\n",
    "print(head(keep))\n",
    "print(head(dge))\n",
    "print(min(rowSums(dge$counts)))"
   ]
  },
  {
   "cell_type": "code",
   "execution_count": 19,
   "id": "52613beb-9cd9-462b-b1d1-282c09da0bde",
   "metadata": {},
   "outputs": [
    {
     "name": "stdout",
     "output_type": "stream",
     "text": [
      "An object of class \"DGEList\"\n",
      "$counts\n",
      "                ERR950160 ERR950180 ERR950178 ERR950163 ERR950162 ERR950159\n",
      "ENSG00000267470        80        70        79        52        46        51\n",
      "ENSG00000215277        18        15         9        11        12        12\n",
      "ENSG00000186106       226       262       192       162        51       124\n",
      "ENSG00000177469       272       312       171       155       112       127\n",
      "ENSG00000297667        11        16         1         9         9         0\n",
      "ENSG00000262902         5        25        26        11        48        16\n",
      "                ERR950181 ERR950158 ERR950161 ERR950182 ERR950179 ERR950177\n",
      "ENSG00000267470        42       115       104        43        35        54\n",
      "ENSG00000215277        16        17        32        19        13         2\n",
      "ENSG00000186106       218       294       250       197       140       318\n",
      "ENSG00000177469       279       548       239       160       136       228\n",
      "ENSG00000297667        11        22        28         9         5         8\n",
      "ENSG00000262902        33        13        30        22        15         6\n",
      "                ERR950187 ERR950186\n",
      "ENSG00000267470        36        39\n",
      "ENSG00000215277        11        10\n",
      "ENSG00000186106       208       259\n",
      "ENSG00000177469       225       195\n",
      "ENSG00000297667         3         7\n",
      "ENSG00000262902        10        29\n",
      "\n",
      "$samples\n",
      "          group lib.size norm.factors\n",
      "ERR950160   Atr 29044543    1.3163252\n",
      "ERR950180   Atr 30655523    1.1215505\n",
      "ERR950178    Hp 24965103    1.1317266\n",
      "ERR950163   Atr 22267190    1.2303719\n",
      "ERR950162   Atr 35599524    0.3882552\n",
      "9 more rows ...\n",
      "\n"
     ]
    }
   ],
   "source": [
    "%%R\n",
    "# Normalize for library size\n",
    "dge <- calcNormFactors(dge, method = \"TMM\")\n",
    "head(dge)\n",
    "#Did it do anything??? YES IT DID!!!"
   ]
  },
  {
   "cell_type": "code",
   "execution_count": 20,
   "id": "f29152f7-0b55-4156-8d34-ce72eafa7d41",
   "metadata": {},
   "outputs": [
    {
     "name": "stdout",
     "output_type": "stream",
     "text": [
      "   (Intercept) metadata$DiagnosisAtr\n",
      "1            1                     1\n",
      "2            1                     1\n",
      "3            1                     0\n",
      "4            1                     1\n",
      "5            1                     1\n",
      "6            1                     1\n",
      "7            1                     1\n",
      "8            1                     1\n",
      "9            1                     1\n",
      "10           1                     1\n",
      "11           1                     0\n",
      "12           1                     0\n",
      "13           1                     0\n",
      "14           1                     0\n",
      "attr(,\"assign\")\n",
      "[1] 0 1\n",
      "attr(,\"contrasts\")\n",
      "attr(,\"contrasts\")$`metadata$Diagnosis`\n",
      "[1] \"contr.treatment\"\n",
      "\n"
     ]
    }
   ],
   "source": [
    "%%R\n",
    "# Create design matrix\n",
    "design <- model.matrix(~metadata$Diagnosis)\n",
    "print(design)"
   ]
  },
  {
   "cell_type": "code",
   "execution_count": 21,
   "id": "9a1de1a5-f01d-4e45-8aa5-93590d2ac18b",
   "metadata": {},
   "outputs": [
    {
     "name": "stdout",
     "output_type": "stream",
     "text": [
      "Disp = 0.14393 , BCV = 0.3794 \n"
     ]
    }
   ],
   "source": [
    "%%R\n",
    "dgeGLMcomDisp <- estimateGLMCommonDisp(dge, design, verbose = TRUE)\n",
    "dgeGLMtrendDisp <- estimateGLMTrendedDisp(dgeGLMcomDisp, design)\n",
    "dgeGLMtagDisp <- estimateGLMTagwiseDisp(dgeGLMtrendDisp, design)\n"
   ]
  },
  {
   "cell_type": "code",
   "execution_count": 22,
   "id": "ff633797-b98b-451e-a538-d05105221c8e",
   "metadata": {},
   "outputs": [
    {
     "name": "stdout",
     "output_type": "stream",
     "text": [
      "png \n",
      "  2 \n"
     ]
    }
   ],
   "source": [
    "%%R \n",
    "png(\"edgeR_isp_plot.png\")\n",
    "plotBCV(dgeGLMtagDisp)\n",
    "dev.off()"
   ]
  },
  {
   "cell_type": "code",
   "execution_count": 23,
   "id": "bc019c0e-1857-471c-b47e-182bca7b19f6",
   "metadata": {},
   "outputs": [
    {
     "name": "stdout",
     "output_type": "stream",
     "text": [
      "Coefficient:  metadata$DiagnosisAtr \n",
      "                    logFC    logCPM       LR       PValue          FDR\n",
      "ENSG00000163735  7.332286 2.3141024 79.11865 5.848966e-19 1.213368e-14\n",
      "ENSG00000152785 -4.599698 0.9788388 61.85099 3.704566e-15 3.842561e-11\n",
      "ENSG00000145113  5.534458 4.9167642 57.83927 2.844349e-14 1.736834e-10\n",
      "ENSG00000269404  5.299666 1.4261483 57.51805 3.348921e-14 1.736834e-10\n",
      "ENSG00000115009  4.641912 0.9423925 55.35402 1.006636e-13 4.176534e-10\n",
      "ENSG00000211893  4.231580 6.3952812 53.80965 2.208851e-13 7.369580e-10\n",
      "ENSG00000211897  4.504578 6.5352922 53.57685 2.486722e-13 7.369580e-10\n",
      "ENSG00000163518  5.583194 1.0892041 52.14318 5.159767e-13 1.337992e-09\n",
      "ENSG00000117152 -2.410319 0.6592392 48.44409 3.398417e-12 7.275526e-09\n",
      "ENSG00000148346  3.106764 4.5268695 48.38234 3.507123e-12 7.275526e-09\n"
     ]
    }
   ],
   "source": [
    "%%R\n",
    "fit <- glmFit(dgeGLMtagDisp, design)\n",
    "colnames(coef(fit))\n",
    "lrt <- glmLRT(fit, coef=2)\n",
    "print(topTags(lrt))\n",
    "#DO not how this is different from lrt, but youtube guy did this\n",
    "ttGlm <- topTags(lrt, n = Inf)"
   ]
  },
  {
   "cell_type": "code",
   "execution_count": 24,
   "id": "66c2e597-f0ca-45ce-a81f-bc7f5f414712",
   "metadata": {},
   "outputs": [
    {
     "name": "stdout",
     "output_type": "stream",
     "text": [
      "       metadata$DiagnosisAtr\n",
      "Down                     417\n",
      "NotSig                 18885\n",
      "Up                      1443\n"
     ]
    }
   ],
   "source": [
    "%%R\n",
    "# Prints a summary significance tests\n",
    "print(summary(deGLM <- decideTestsDGE(lrt, p = 0.05, adjust = \"fdr\")))"
   ]
  },
  {
   "cell_type": "code",
   "execution_count": 25,
   "id": "af395018-5978-484f-ae4e-fd0847d4cb76",
   "metadata": {},
   "outputs": [
    {
     "data": {
      "image/png": "[encoded data removed]",
      "text/plain": [
       "<IPython.core.display.Image object>"
      ]
     },
     "metadata": {},
     "output_type": "display_data"
    }
   ],
   "source": [
    "%%R\n",
    "#All the genes which are differentially expressed\n",
    "tagsGLM <- rownames(dgeGLMtagDisp)[as.logical(deGLM)]\n",
    "plotSmear(lrt, de.tags = tagsGLM)\n"
   ]
  },
  {
   "cell_type": "code",
   "execution_count": 26,
   "id": "0f3c3b42-8cee-4db5-a2ec-2cc48b8c08a0",
   "metadata": {},
   "outputs": [
    {
     "data": {
      "image/png": "[encoded data removed]",
      "text/plain": [
       "<IPython.core.display.Image object>"
      ]
     },
     "metadata": {},
     "output_type": "display_data"
    }
   ],
   "source": [
    "%%R \n",
    "# Extract results table from the likelihood ratio test (lrt)\n",
    "results <- topTags(lrt, n = Inf)$table\n",
    "#png(\"EdgeR_volcano_plot.png\")\n",
    "# Create a volcano plot\n",
    "plot(results$logFC, -log10(results$FDR), \n",
    "     col = ifelse(results$FDR < 0.05, \"red\", \"black\"),  # Color significant genes red\n",
    "     pch = 20, cex = 0.6,                              # Smaller points\n",
    "     xlab = \"Log Fold Change\", ylab = \"-log10(FDR)\", \n",
    "     main = \"Volcano Plot\")\n",
    "\n",
    "# Add a significance threshold line (FDR = 0.05)\n",
    "abline(h = -log10(0.05), col = \"blue\", lty = 2)\n"
   ]
  },
  {
   "cell_type": "code",
   "execution_count": 27,
   "id": "0cff3d8c-1a4a-4f28-9e5b-ab7845aad99d",
   "metadata": {
    "scrolled": true
   },
   "outputs": [],
   "source": [
    "%%R\n",
    "\n",
    "DE_genes <- ttGlm$table[ttGlm$table$FDR < 0.05, ]\n",
    "\n",
    "write.csv(DE_genes, \"STAR_edgeR_Results.csv\")"
   ]
  },
  {
   "cell_type": "code",
   "execution_count": 28,
   "id": "3f0e0c73-55e8-4101-a067-f0901ad5e934",
   "metadata": {},
   "outputs": [
    {
     "name": "stderr",
     "output_type": "stream",
     "text": [
      "/usr/share/lmod/lmod/init/bash: /usr/share/lmod/lmod/libexec/addto: /usr/bin/lua: bad interpreter: No such file or directory\n"
     ]
    }
   ],
   "source": [
    "%%bash\n",
    "#moves STAR_edgeR_Results.csv into the STAR_DE_analysis directory\n",
    "group_dir='/cephyr/NOBACKUP/groups/bbt045_2025/groups/group_Bjork/'\n",
    "STAR_DE_analysis_dir='/cephyr/NOBACKUP/groups/bbt045_2025/groups/group_Bjork/data/STAR_DE_analysis'\n",
    "mv $group_dir/STAR_edgeR_Results.csv $STAR_DE_analysis_dir/STAR_edgeR_Results.csv "
   ]
  },
  {
   "cell_type": "code",
   "execution_count": 29,
   "id": "4ac5b19f-8cc7-417f-8363-b33dbc5eac38",
   "metadata": {},
   "outputs": [
    {
     "name": "stdout",
     "output_type": "stream",
     "text": [
      "                    logFC    logCPM       LR       PValue          FDR\n",
      "ENSG00000163735  7.332286 2.3141024 79.11865 5.848966e-19 1.213368e-14\n",
      "ENSG00000152785 -4.599698 0.9788388 61.85099 3.704566e-15 3.842561e-11\n",
      "ENSG00000145113  5.534458 4.9167642 57.83927 2.844349e-14 1.736834e-10\n",
      "ENSG00000269404  5.299666 1.4261483 57.51805 3.348921e-14 1.736834e-10\n",
      "ENSG00000115009  4.641912 0.9423925 55.35402 1.006636e-13 4.176534e-10\n",
      "ENSG00000211893  4.231580 6.3952812 53.80965 2.208851e-13 7.369580e-10\n"
     ]
    }
   ],
   "source": [
    "%%R\n",
    "head(results)"
   ]
  },
  {
   "cell_type": "markdown",
   "id": "105f5218-6a34-4a6c-ba7d-280303fba8d7",
   "metadata": {},
   "source": [
    "# Comparing DE genes DESeq2 vs edgeR"
   ]
  },
  {
   "cell_type": "code",
   "execution_count": 61,
   "id": "dc874dd0-6cef-44e6-a082-2cdde8f1d9fa",
   "metadata": {},
   "outputs": [
    {
     "name": "stderr",
     "output_type": "stream",
     "text": [
      "/usr/share/lmod/lmod/init/bash: /usr/share/lmod/lmod/libexec/addto: /usr/bin/lua: bad interpreter: No such file or directory\n"
     ]
    }
   ],
   "source": [
    "%%bash\n",
    "cd /cephyr/NOBACKUP/groups/bbt045_2025/groups/group_Bjork/data/STAR_DE_analysis\n",
    "sed -i 's/\"//g' STAR_DESeq2_Results.csv\n",
    "sed -i 's/\"//g' STAR_edgeR_Results.csv"
   ]
  },
  {
   "cell_type": "code",
   "execution_count": 62,
   "id": "f9549705-baa6-44ec-b2a9-01f187b4a9e2",
   "metadata": {},
   "outputs": [
    {
     "name": "stderr",
     "output_type": "stream",
     "text": [
      "/usr/share/lmod/lmod/init/bash: /usr/share/lmod/lmod/libexec/addto: /usr/bin/lua: bad interpreter: No such file or directory\n"
     ]
    }
   ],
   "source": [
    "%%bash\n",
    "cd /cephyr/NOBACKUP/groups/bbt045_2025/groups/group_Bjork/data/STAR_DE_analysis\n",
    "sed -i 's/,/\\t/g' STAR_DESeq2_Results.csv\n",
    "sed -i 's/,/\\t/g' STAR_edgeR_Results.csv"
   ]
  },
  {
   "cell_type": "code",
   "execution_count": 30,
   "id": "a860f2b4-6bf1-437b-942b-9fabdd439e88",
   "metadata": {},
   "outputs": [
    {
     "name": "stderr",
     "output_type": "stream",
     "text": [
      "/usr/share/lmod/lmod/init/bash: /usr/share/lmod/lmod/libexec/addto: /usr/bin/lua: bad interpreter: No such file or directory\n",
      "grep: STAR_DESeq2_Results.csv: No such file or directory\n",
      "grep: STAR_edgeR_Results.csv: No such file or directory\n",
      "grep: STAR_DESeq2_Res_Gene_ID.txt: No such file or directory\n"
     ]
    },
    {
     "ename": "CalledProcessError",
     "evalue": "Command 'b\"grep -P 'ENSG' STAR_DESeq2_Results.csv | awk '{print $1}' > STAR_DESeq2_Res_Gene_ID\\ngrep -P 'ENSG' STAR_edgeR_Results.csv | awk '{print $1}' > STAR_edgeR_Res_Gene_ID\\ngrep -Fxf STAR_DESeq2_Res_Gene_ID.txt STAR_edgeR_Res_Gene_ID.txt > STAR_common_gene_ID.txt\\n\"' returned non-zero exit status 2.",
     "output_type": "error",
     "traceback": [
      "\u001b[31m---------------------------------------------------------------------------\u001b[39m",
      "\u001b[31mCalledProcessError\u001b[39m                        Traceback (most recent call last)",
      "\u001b[36mCell\u001b[39m\u001b[36m \u001b[39m\u001b[32mIn[30]\u001b[39m\u001b[32m, line 1\u001b[39m\n\u001b[32m----> \u001b[39m\u001b[32m1\u001b[39m \u001b[43mget_ipython\u001b[49m\u001b[43m(\u001b[49m\u001b[43m)\u001b[49m\u001b[43m.\u001b[49m\u001b[43mrun_cell_magic\u001b[49m\u001b[43m(\u001b[49m\u001b[33;43m'\u001b[39;49m\u001b[33;43mbash\u001b[39;49m\u001b[33;43m'\u001b[39;49m\u001b[43m,\u001b[49m\u001b[43m \u001b[49m\u001b[33;43m'\u001b[39;49m\u001b[33;43m'\u001b[39;49m\u001b[43m,\u001b[49m\u001b[43m \u001b[49m\u001b[33;43m\"\u001b[39;49m\u001b[33;43mgrep -P \u001b[39;49m\u001b[33;43m'\u001b[39;49m\u001b[33;43mENSG\u001b[39;49m\u001b[33;43m'\u001b[39;49m\u001b[33;43m STAR_DESeq2_Results.csv | awk \u001b[39;49m\u001b[33;43m'\u001b[39;49m\u001b[33;43m{\u001b[39;49m\u001b[33;43mprint $1}\u001b[39;49m\u001b[33;43m'\u001b[39;49m\u001b[33;43m > STAR_DESeq2_Res_Gene_ID\u001b[39;49m\u001b[38;5;130;43;01m\\n\u001b[39;49;00m\u001b[33;43mgrep -P \u001b[39;49m\u001b[33;43m'\u001b[39;49m\u001b[33;43mENSG\u001b[39;49m\u001b[33;43m'\u001b[39;49m\u001b[33;43m STAR_edgeR_Results.csv | awk \u001b[39;49m\u001b[33;43m'\u001b[39;49m\u001b[33;43m{\u001b[39;49m\u001b[33;43mprint $1}\u001b[39;49m\u001b[33;43m'\u001b[39;49m\u001b[33;43m > STAR_edgeR_Res_Gene_ID\u001b[39;49m\u001b[38;5;130;43;01m\\n\u001b[39;49;00m\u001b[33;43mgrep -Fxf STAR_DESeq2_Res_Gene_ID.txt STAR_edgeR_Res_Gene_ID.txt > STAR_common_gene_ID.txt\u001b[39;49m\u001b[38;5;130;43;01m\\n\u001b[39;49;00m\u001b[33;43m\"\u001b[39;49m\u001b[43m)\u001b[49m\n",
      "\u001b[36mFile \u001b[39m\u001b[32m/opt/conda/lib/python3.11/site-packages/IPython/core/interactiveshell.py:2539\u001b[39m, in \u001b[36mInteractiveShell.run_cell_magic\u001b[39m\u001b[34m(self, magic_name, line, cell)\u001b[39m\n\u001b[32m   2537\u001b[39m \u001b[38;5;28;01mwith\u001b[39;00m \u001b[38;5;28mself\u001b[39m.builtin_trap:\n\u001b[32m   2538\u001b[39m     args = (magic_arg_s, cell)\n\u001b[32m-> \u001b[39m\u001b[32m2539\u001b[39m     result = \u001b[43mfn\u001b[49m\u001b[43m(\u001b[49m\u001b[43m*\u001b[49m\u001b[43margs\u001b[49m\u001b[43m,\u001b[49m\u001b[43m \u001b[49m\u001b[43m*\u001b[49m\u001b[43m*\u001b[49m\u001b[43mkwargs\u001b[49m\u001b[43m)\u001b[49m\n\u001b[32m   2541\u001b[39m \u001b[38;5;66;03m# The code below prevents the output from being displayed\u001b[39;00m\n\u001b[32m   2542\u001b[39m \u001b[38;5;66;03m# when using magics with decorator @output_can_be_silenced\u001b[39;00m\n\u001b[32m   2543\u001b[39m \u001b[38;5;66;03m# when the last Python token in the expression is a ';'.\u001b[39;00m\n\u001b[32m   2544\u001b[39m \u001b[38;5;28;01mif\u001b[39;00m \u001b[38;5;28mgetattr\u001b[39m(fn, magic.MAGIC_OUTPUT_CAN_BE_SILENCED, \u001b[38;5;28;01mFalse\u001b[39;00m):\n",
      "\u001b[36mFile \u001b[39m\u001b[32m/opt/conda/lib/python3.11/site-packages/IPython/core/magics/script.py:159\u001b[39m, in \u001b[36mScriptMagics._make_script_magic.<locals>.named_script_magic\u001b[39m\u001b[34m(line, cell)\u001b[39m\n\u001b[32m    157\u001b[39m \u001b[38;5;28;01melse\u001b[39;00m:\n\u001b[32m    158\u001b[39m     line = script\n\u001b[32m--> \u001b[39m\u001b[32m159\u001b[39m \u001b[38;5;28;01mreturn\u001b[39;00m \u001b[38;5;28;43mself\u001b[39;49m\u001b[43m.\u001b[49m\u001b[43mshebang\u001b[49m\u001b[43m(\u001b[49m\u001b[43mline\u001b[49m\u001b[43m,\u001b[49m\u001b[43m \u001b[49m\u001b[43mcell\u001b[49m\u001b[43m)\u001b[49m\n",
      "\u001b[36mFile \u001b[39m\u001b[32m/opt/conda/lib/python3.11/site-packages/IPython/core/magics/script.py:336\u001b[39m, in \u001b[36mScriptMagics.shebang\u001b[39m\u001b[34m(self, line, cell)\u001b[39m\n\u001b[32m    331\u001b[39m \u001b[38;5;28;01mif\u001b[39;00m args.raise_error \u001b[38;5;129;01mand\u001b[39;00m p.returncode != \u001b[32m0\u001b[39m:\n\u001b[32m    332\u001b[39m     \u001b[38;5;66;03m# If we get here and p.returncode is still None, we must have\u001b[39;00m\n\u001b[32m    333\u001b[39m     \u001b[38;5;66;03m# killed it but not yet seen its return code. We don't wait for it,\u001b[39;00m\n\u001b[32m    334\u001b[39m     \u001b[38;5;66;03m# in case it's stuck in uninterruptible sleep. -9 = SIGKILL\u001b[39;00m\n\u001b[32m    335\u001b[39m     rc = p.returncode \u001b[38;5;129;01mor\u001b[39;00m -\u001b[32m9\u001b[39m\n\u001b[32m--> \u001b[39m\u001b[32m336\u001b[39m     \u001b[38;5;28;01mraise\u001b[39;00m CalledProcessError(rc, cell)\n",
      "\u001b[31mCalledProcessError\u001b[39m: Command 'b\"grep -P 'ENSG' STAR_DESeq2_Results.csv | awk '{print $1}' > STAR_DESeq2_Res_Gene_ID\\ngrep -P 'ENSG' STAR_edgeR_Results.csv | awk '{print $1}' > STAR_edgeR_Res_Gene_ID\\ngrep -Fxf STAR_DESeq2_Res_Gene_ID.txt STAR_edgeR_Res_Gene_ID.txt > STAR_common_gene_ID.txt\\n\"' returned non-zero exit status 2."
     ]
    }
   ],
   "source": [
    "%%bash\n",
    "grep -P 'ENSG' STAR_DESeq2_Results.csv | awk '{print $1}' > STAR_DESeq2_Res_Gene_ID\n",
    "grep -P 'ENSG' STAR_edgeR_Results.csv | awk '{print $1}' > STAR_edgeR_Res_Gene_ID\n",
    "grep -Fxf STAR_DESeq2_Res_Gene_ID.txt STAR_edgeR_Res_Gene_ID.txt > STAR_common_gene_ID.txt"
   ]
  },
  {
   "cell_type": "code",
   "execution_count": null,
   "id": "5474d90a-bb26-4925-8dad-c2f4d4cede8b",
   "metadata": {},
   "outputs": [],
   "source": [
    "%%bash\n",
    "# Number of common DE genes\n",
    "cd /cephyr/NOBACKUP/groups/bbt045_2025/groups/group_Bjork/data/STAR_DE_analysis\n",
    "grep -Fxf STAR_DESeq2_Res_Gene_ID.txt STAR_edgeR_Res_Gene_ID.txt | wc -l"
   ]
  },
  {
   "cell_type": "code",
   "execution_count": null,
   "id": "ceac88f8-54ba-483d-b6da-b292acfa6264",
   "metadata": {},
   "outputs": [],
   "source": [
    "%%bash \n",
    "cd /cephyr/NOBACKUP/groups/bbt045_2025/groups/group_Bjork/data/STAR_DE_analysis\n",
    "grep -c 'ENSG' STAR_DESeq2_Res_Gene_ID.txt\n",
    "grep -c 'ENSG' STAR_edgeR_Res_Gene_ID.txt"
   ]
  },
  {
   "cell_type": "markdown",
   "id": "d30a4afd-8320-420a-b776-73266f70f1cd",
   "metadata": {},
   "source": [
    "# PCA"
   ]
  },
  {
   "cell_type": "code",
   "execution_count": 30,
   "id": "1364e39d-b466-42d8-9a1e-aebf2f6592ee",
   "metadata": {},
   "outputs": [
    {
     "name": "stdout",
     "output_type": "stream",
     "text": [
      "Importance of components:\n",
      "                           PC1     PC2      PC3      PC4      PC5      PC6\n",
      "Standard deviation     60.8502 41.4613 24.21939 19.05180 17.84877 16.37725\n",
      "Proportion of Variance  0.4577  0.2125  0.07251  0.04487  0.03938  0.03315\n",
      "Cumulative Proportion   0.4577  0.6702  0.74271  0.78758  0.82696  0.86011\n",
      "                            PC7      PC8      PC9     PC10     PC11     PC12\n",
      "Standard deviation     15.15183 13.73179 13.45428 12.55499 11.95509 10.98474\n",
      "Proportion of Variance  0.02838  0.02331  0.02238  0.01948  0.01767  0.01492\n",
      "Cumulative Proportion   0.88849  0.91180  0.93417  0.95366  0.97133  0.98624\n",
      "                           PC13      PC14\n",
      "Standard deviation     10.54997 4.763e-14\n",
      "Proportion of Variance  0.01376 0.000e+00\n",
      "Cumulative Proportion   1.00000 1.000e+00\n",
      "png \n",
      "  2 \n"
     ]
    }
   ],
   "source": [
    "%%R\n",
    "column.cols=c(\"purple\",\"red\")[as.factor(metadata$Diagnosis)]\n",
    "\n",
    "log_counts = log(dge$counts + 1) \n",
    "dge_pca = prcomp(t(log_counts))\n",
    "print(summary(dge_pca))\n",
    "head(dge_pca$x)\n",
    "\n",
    "PC1 = dge_pca$x[,1]\n",
    "PC2 = dge_pca$x[,2]\n",
    "PC3 = dge_pca$x[,3]\n",
    "\n",
    "\n",
    "#plots are colored according to diagnosis\n",
    "png(\"USE_EdgeR_PCA_PC1_PC2.png\")\n",
    "PC1.vs.PC2 = plot(PC1,PC2,main='PC1 vs PC2 colored according to diagnosis',xlab = \"PC1: 46% variance\", ylab = \"PC2: 21% variance\" , col=column.cols)\n",
    "#PC1.vs.PC3 = plot(PC1,PC3,main='PC1 vs PC3 colored according to diagnosis',col=column.cols)\n",
    "#PC2.vs.PC3 = plot(PC2,PC3,main='PC2 vs PC3 colored according to diagnosis',col=column.cols)\n",
    "\n",
    "legend(\"bottomleft\", legend = c(\"Hp\", \"Atr\"),  col = c(\"purple\", \"red\"), pch = 19, cex = 0.8, title = \"Group\")\n",
    "dev.off()"
   ]
  },
  {
   "cell_type": "code",
   "execution_count": 38,
   "id": "1b4eb3e6-fcd4-41ad-b42a-785bf5a98c8b",
   "metadata": {},
   "outputs": [
    {
     "data": {
      "image/png": "[encoded data removed]",
      "text/plain": [
       "<IPython.core.display.Image object>"
      ]
     },
     "metadata": {},
     "output_type": "display_data"
    }
   ],
   "source": [
    "%%R\n",
    "#png(\"EdgeR_PCA_PC1_PC3.png\")\n",
    "PC1.vs.PC3 = plot(PC1,PC3,main='PC1 vs PC3 colored according to diagnosis',xlab = \"PC1: 46% variance\", ylab = \"PC3: 7% variance\", col=column.cols)\n",
    "legend(\"bottomleft\", legend = c(\"Hp\", \"Atr\"),  col = c(\"purple\", \"red\"), pch = 19, cex = 0.8, title = \"Group\")\n",
    "#dev.off()"
   ]
  },
  {
   "cell_type": "code",
   "execution_count": 47,
   "id": "a79f76f1-f6ab-4a7f-8613-b3067d8d8ed1",
   "metadata": {},
   "outputs": [
    {
     "data": {
      "image/png": "[encoded data removed]",
      "text/plain": [
       "<IPython.core.display.Image object>"
      ]
     },
     "metadata": {},
     "output_type": "display_data"
    }
   ],
   "source": [
    "%%R\n",
    "#png(\"EdgeR_PCA_PC2_PC3.png\")\n",
    "PC2.vs.PC3 = plot(PC2,PC3,main='PC2 vs PC3 colored according to diagnosis',col=column.cols)\n",
    "legend(\"bottomleft\", legend = c(\"Hp\", \"Atr\"),  col = c(\"purple\", \"red\"), pch = 19, cex = 0.8, title = \"Group\")\n",
    "#dev.off()"
   ]
  },
  {
   "cell_type": "code",
   "execution_count": 40,
   "id": "c25dd76f-4a25-447b-8ea3-431c271c80f4",
   "metadata": {},
   "outputs": [
    {
     "name": "stderr",
     "output_type": "stream",
     "text": [
      "/usr/share/lmod/lmod/init/bash: /usr/share/lmod/lmod/libexec/addto: /usr/bin/lua: bad interpreter: No such file or directory\n",
      "/opt/conda/lib/python3.11/site-packages/agate/utils.py:272: UnnamedColumnWarning: Column 1 has no name. Using \"b\".\n",
      "  warn_unnamed_column(i, new_value)\n",
      "/opt/conda/lib/python3.11/site-packages/agate/utils.py:272: UnnamedColumnWarning: Column 2 has no name. Using \"c\".\n",
      "  warn_unnamed_column(i, new_value)\n",
      "/opt/conda/lib/python3.11/site-packages/agate/utils.py:272: UnnamedColumnWarning: Column 3 has no name. Using \"d\".\n",
      "  warn_unnamed_column(i, new_value)\n",
      "/opt/conda/lib/python3.11/site-packages/agate/utils.py:272: UnnamedColumnWarning: Column 4 has no name. Using \"e\".\n",
      "  warn_unnamed_column(i, new_value)\n",
      "/opt/conda/lib/python3.11/site-packages/agate/utils.py:272: UnnamedColumnWarning: Column 5 has no name. Using \"f\".\n",
      "  warn_unnamed_column(i, new_value)\n"
     ]
    },
    {
     "name": "stdout",
     "output_type": "stream",
     "text": [
      "Table 1. Subjects included in the study.,b,c,d,e,f\n",
      "HEALF* ID,RNA-seq ID,Age,Sex,H. pylori isolate**,Atrophy score RNA-seq***\n",
      "HEALF19432,Hp-1,47,M,,Low\n",
      ",,,,,\n",
      "HEALF24260,Hp-2,34,F,,Low\n",
      ",,,,,\n",
      "HEALF23836,Hp-3,54,F,,High\n",
      ",,,,,\n",
      "HEALF04977,Hp-4,23,M,,Low\n",
      ",,,,,\n"
     ]
    }
   ],
   "source": [
    "%%bash\n",
    "#Fixing the metadata file\n",
    "cd /cephyr/NOBACKUP/groups/bbt045_2025/groups/group_Bjork/data/STAR_DE_analysis\n",
    "in2csv Patient-info.xlsx > Patient-info.csv\n",
    "head Patient-info.csv\n"
   ]
  },
  {
   "cell_type": "code",
   "execution_count": 41,
   "id": "e4fd3935-28bf-439b-9ce0-6fcb53950494",
   "metadata": {},
   "outputs": [
    {
     "name": "stderr",
     "output_type": "stream",
     "text": [
      "/usr/share/lmod/lmod/init/bash: /usr/share/lmod/lmod/libexec/addto: /usr/bin/lua: bad interpreter: No such file or directory\n"
     ]
    }
   ],
   "source": [
    "%%bash\n",
    "cd /cephyr/NOBACKUP/groups/bbt045_2025/groups/group_Bjork/data/STAR_DE_analysis\n",
    "grep -P 'HEAL' Patient-info.csv | cut -d',' -f2-4 | sed 's/,/\\t/g' | grep -P '(Hp|Atr)' > /cephyr/NOBACKUP/groups/bbt045_2025/groups/group_Bjork/data/STAR_DE_analysis/METAFANSKAPET/META_1.txt"
   ]
  },
  {
   "cell_type": "code",
   "execution_count": 5,
   "id": "b2571753-cf45-44bf-b73e-40e54d21d55e",
   "metadata": {},
   "outputs": [
    {
     "name": "stderr",
     "output_type": "stream",
     "text": [
      "/usr/share/lmod/lmod/init/bash: /usr/share/lmod/lmod/libexec/addto: /usr/bin/lua: bad interpreter: No such file or directory\n"
     ]
    }
   ],
   "source": [
    "%%bash\n",
    "awk -F'\\t' '$4 ~ /(Hp|Atr)/ {print $1, $4}' /cephyr/NOBACKUP/groups/bbt045_2025/groups/group_Bjork/RNA-seq-list.txt > /cephyr/NOBACKUP/groups/bbt045_2025/groups/group_Bjork/data/STAR_DE_analysis/METAFANSKAPET/META_2.txt"
   ]
  },
  {
   "cell_type": "code",
   "execution_count": 33,
   "id": "1419455e-497c-40d5-8818-739ad1e0831c",
   "metadata": {},
   "outputs": [
    {
     "name": "stderr",
     "output_type": "stream",
     "text": [
      "/usr/share/lmod/lmod/init/bash: /usr/share/lmod/lmod/libexec/addto: /usr/bin/lua: bad interpreter: No such file or directory\n"
     ]
    },
    {
     "name": "stdout",
     "output_type": "stream",
     "text": [
      "Merging complete. Output saved to /cephyr/NOBACKUP/groups/bbt045_2025/groups/group_Bjork/data/STAR_DE_analysis/META_TODO.txt\n"
     ]
    }
   ],
   "source": [
    "T\n",
    "while read -r sample condition; do\n",
    "    # Find matching condition in file2.txt\n",
    "    metadata=$(grep -P \"^$condition\\t\" \"$file2\")\n",
    "    \n",
    "    # If match found, append to output file\n",
    "    if [[ ! -z \"$metadata\" ]]; then\n",
    "        echo -e \"$sample\\t$metadata\" >> \"$output_file\"\n",
    "    fi\n",
    "done < \"$file1\"\n",
    "\n",
    "# Print success message\n",
    "echo \"Merging complete. Output saved to $output_file\""
   ]
  },
  {
   "cell_type": "code",
   "execution_count": 34,
   "id": "c871cbd3-5b09-4f26-aaa8-ca14c843a306",
   "metadata": {},
   "outputs": [
    {
     "name": "stdout",
     "output_type": "stream",
     "text": [
      "Importance of components:\n",
      "                           PC1     PC2      PC3      PC4      PC5      PC6\n",
      "Standard deviation     60.8502 41.4613 24.21939 19.05180 17.84877 16.37725\n",
      "Proportion of Variance  0.4577  0.2125  0.07251  0.04487  0.03938  0.03315\n",
      "Cumulative Proportion   0.4577  0.6702  0.74271  0.78758  0.82696  0.86011\n",
      "                            PC7      PC8      PC9     PC10     PC11     PC12\n",
      "Standard deviation     15.15183 13.73179 13.45428 12.55499 11.95509 10.98474\n",
      "Proportion of Variance  0.02838  0.02331  0.02238  0.01948  0.01767  0.01492\n",
      "Cumulative Proportion   0.88849  0.91180  0.93417  0.95366  0.97133  0.98624\n",
      "                           PC13      PC14\n",
      "Standard deviation     10.54997 4.763e-14\n",
      "Proportion of Variance  0.01376 0.000e+00\n",
      "Cumulative Proportion   1.00000 1.000e+00\n",
      "png \n",
      "  2 \n"
     ]
    }
   ],
   "source": [
    "%%R\n",
    "#Nice to have\n",
    "column.cols=c(\"purple\",\"red\")[as.factor(metadata$Sex)]\n",
    "\n",
    "log_counts = log(dge$counts + 1) \n",
    "dge_pca = prcomp(t(log_counts))\n",
    "print(summary(dge_pca))\n",
    "head(dge_pca$x)\n",
    "\n",
    "PC1 = dge_pca$x[,1]\n",
    "PC2 = dge_pca$x[,2]\n",
    "PC3 = dge_pca$x[,3]\n",
    "\n",
    "\n",
    "#plots are colored according to diagnosis\n",
    "png(\"SATAN_USE_EdgeR_PCA_Sex_PC1_PC2.png\")\n",
    "PC1.vs.PC2 = plot(PC1,PC2,main='PC1 vs PC2 colored according to Sex', xlab = \"PC1: 46% variance\", ylab = \"PC2: 21% variance\", col=column.cols)\n",
    "#PC1.vs.PC3 = plot(PC1,PC3,main='PC1 vs PC3 colored according to Sex',col=column.cols)\n",
    "#PC2.vs.PC3 = plot(PC2,PC3,main='PC2 vs PC3 colored according to Sex',col=column.cols) #lägg till variance\n",
    "\n",
    "legend(\"bottomleft\", legend = c(\"Female\", \"Male\"),  col = c(\"purple\", \"red\"), pch = 19, cex = 0.8, title = \"Group\")\n",
    "dev.off()"
   ]
  },
  {
   "cell_type": "code",
   "execution_count": 44,
   "id": "758b429d-adcb-4e61-b2b8-8c661855d303",
   "metadata": {},
   "outputs": [
    {
     "data": {
      "image/png": "[encoded data removed]",
      "text/plain": [
       "<IPython.core.display.Image object>"
      ]
     },
     "metadata": {},
     "output_type": "display_data"
    }
   ],
   "source": [
    "%%R\n",
    "#png(\"EdgeR_PCA_Sex_PC1_PC3.png\")\n",
    "PC1.vs.PC3 = plot(PC1,PC3,main='PC1 vs PC3 colored according to Sex',col=column.cols)\n",
    "legend(\"topright\", legend = c(\"Female\", \"Male\"),  col = c(\"purple\", \"red\"), pch = 19, cex = 0.8, title = \"Group\")\n",
    "#dev.off()"
   ]
  },
  {
   "cell_type": "code",
   "execution_count": 45,
   "id": "0bf12fd8-4d63-4e23-888c-6560e4564cce",
   "metadata": {},
   "outputs": [
    {
     "data": {
      "image/png": "[encoded data removed]",
      "text/plain": [
       "<IPython.core.display.Image object>"
      ]
     },
     "metadata": {},
     "output_type": "display_data"
    }
   ],
   "source": [
    "%%R\n",
    "#png(\"EdgeR_PCA_Sex_PC2_PC3.png\")\n",
    "PC2.vs.PC3 = plot(PC2,PC3,main='PC2 vs PC3 colored according to Sex', xlab = \"PC1: 46% variance\", ylab = \"PC3: 7% variance\", col=column.cols) #lägg till variance\n",
    "\n",
    "legend(\"topright\", legend = c(\"Female\", \"Male\"),  col = c(\"purple\", \"red\"), pch = 19, cex = 0.8, title = \"Group\")\n",
    "#dev.off()"
   ]
  },
  {
   "cell_type": "code",
   "execution_count": null,
   "id": "b562f7de-e3da-41fe-85e3-e0931c5f7ee2",
   "metadata": {},
   "outputs": [],
   "source": []
  }
 ],
 "metadata": {
  "kernelspec": {
   "display_name": "Python 3 (ipykernel)",
   "language": "python",
   "name": "python3"
  },
  "language_info": {
   "codemirror_mode": {
    "name": "ipython",
    "version": 3
   },
   "file_extension": ".py",
   "mimetype": "text/x-python",
   "name": "python",
   "nbconvert_exporter": "python",
   "pygments_lexer": "ipython3",
   "version": "3.11.11"
  }
 },
 "nbformat": 4,
 "nbformat_minor": 5
}
